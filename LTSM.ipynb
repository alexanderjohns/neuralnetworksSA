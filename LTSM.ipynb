{
 "cells": [
  {
   "cell_type": "code",
   "execution_count": 2,
   "metadata": {},
   "outputs": [
    {
     "name": "stderr",
     "output_type": "stream",
     "text": [
      "C:\\Users\\johns\\Anaconda\\lib\\site-packages\\tensorflow\\python\\framework\\dtypes.py:526: FutureWarning: Passing (type, 1) or '1type' as a synonym of type is deprecated; in a future version of numpy, it will be understood as (type, (1,)) / '(1,)type'.\n",
      "  _np_qint8 = np.dtype([(\"qint8\", np.int8, 1)])\n",
      "C:\\Users\\johns\\Anaconda\\lib\\site-packages\\tensorflow\\python\\framework\\dtypes.py:527: FutureWarning: Passing (type, 1) or '1type' as a synonym of type is deprecated; in a future version of numpy, it will be understood as (type, (1,)) / '(1,)type'.\n",
      "  _np_quint8 = np.dtype([(\"quint8\", np.uint8, 1)])\n",
      "C:\\Users\\johns\\Anaconda\\lib\\site-packages\\tensorflow\\python\\framework\\dtypes.py:528: FutureWarning: Passing (type, 1) or '1type' as a synonym of type is deprecated; in a future version of numpy, it will be understood as (type, (1,)) / '(1,)type'.\n",
      "  _np_qint16 = np.dtype([(\"qint16\", np.int16, 1)])\n",
      "C:\\Users\\johns\\Anaconda\\lib\\site-packages\\tensorflow\\python\\framework\\dtypes.py:529: FutureWarning: Passing (type, 1) or '1type' as a synonym of type is deprecated; in a future version of numpy, it will be understood as (type, (1,)) / '(1,)type'.\n",
      "  _np_quint16 = np.dtype([(\"quint16\", np.uint16, 1)])\n",
      "C:\\Users\\johns\\Anaconda\\lib\\site-packages\\tensorflow\\python\\framework\\dtypes.py:530: FutureWarning: Passing (type, 1) or '1type' as a synonym of type is deprecated; in a future version of numpy, it will be understood as (type, (1,)) / '(1,)type'.\n",
      "  _np_qint32 = np.dtype([(\"qint32\", np.int32, 1)])\n",
      "C:\\Users\\johns\\Anaconda\\lib\\site-packages\\tensorflow\\python\\framework\\dtypes.py:535: FutureWarning: Passing (type, 1) or '1type' as a synonym of type is deprecated; in a future version of numpy, it will be understood as (type, (1,)) / '(1,)type'.\n",
      "  np_resource = np.dtype([(\"resource\", np.ubyte, 1)])\n"
     ]
    }
   ],
   "source": [
    "import numpy as np # linear algebra\n",
    "import pandas as pd # data processing, CSV file I/O (e.g. pd.read_csv)\n",
    "import matplotlib.pyplot as plt\n",
    "import seaborn as sns\n",
    "import nltk\n",
    "from nltk.corpus import stopwords                # stopwords are removed from text to keep just useful info\n",
    "from nltk import word_tokenize, sent_tokenize\n",
    "import tensorflow as tf\n",
    "from tensorflow.keras.preprocessing.text import one_hot, Tokenizer\n",
    "from tensorflow.keras.preprocessing.sequence import pad_sequences\n",
    "from tensorflow.keras.models import Sequential\n",
    "from tensorflow.keras.layers import Dense, Flatten, Embedding, LSTM, SpatialDropout1D, Input, Bidirectional,Dropout\n",
    "from sklearn.model_selection import train_test_split\n",
    "from tensorflow.keras.callbacks import EarlyStopping, ReduceLROnPlateau\n",
    "from tensorflow.keras.regularizers import l2"
   ]
  },
  {
   "cell_type": "code",
   "execution_count": 3,
   "metadata": {},
   "outputs": [],
   "source": [
    "df = pd.read_csv('train.csv', encoding='latin1')"
   ]
  },
  {
   "cell_type": "code",
   "execution_count": 5,
   "metadata": {},
   "outputs": [
    {
     "data": {
      "text/plain": [
       "0        0\n",
       "1        0\n",
       "2        0\n",
       "3        0\n",
       "4        0\n",
       "        ..\n",
       "29995    1\n",
       "29996    1\n",
       "29997    1\n",
       "29998    1\n",
       "29999    1\n",
       "Name: sentiment, Length: 30000, dtype: int64"
      ]
     },
     "execution_count": 5,
     "metadata": {},
     "output_type": "execute_result"
    }
   ],
   "source": [
    "df['sentiment'] = df['sentiment'].replace({'negative':0, 'positive' : 1})\n"
   ]
  },
  {
   "cell_type": "code",
   "execution_count": 6,
   "metadata": {},
   "outputs": [],
   "source": [
    "y = df['sentiment']"
   ]
  },
  {
   "cell_type": "code",
   "execution_count": 7,
   "metadata": {},
   "outputs": [
    {
     "data": {
      "text/html": [
       "<div>\n",
       "<style scoped>\n",
       "    .dataframe tbody tr th:only-of-type {\n",
       "        vertical-align: middle;\n",
       "    }\n",
       "\n",
       "    .dataframe tbody tr th {\n",
       "        vertical-align: top;\n",
       "    }\n",
       "\n",
       "    .dataframe thead th {\n",
       "        text-align: right;\n",
       "    }\n",
       "</style>\n",
       "<table border=\"1\" class=\"dataframe\">\n",
       "  <thead>\n",
       "    <tr style=\"text-align: right;\">\n",
       "      <th></th>\n",
       "      <th>review</th>\n",
       "    </tr>\n",
       "  </thead>\n",
       "  <tbody>\n",
       "    <tr>\n",
       "      <td>0</td>\n",
       "      <td>I should have never watched this movie. The st...</td>\n",
       "    </tr>\n",
       "    <tr>\n",
       "      <td>1</td>\n",
       "      <td>Robert Lansing plays a scientist experimenting...</td>\n",
       "    </tr>\n",
       "    <tr>\n",
       "      <td>2</td>\n",
       "      <td>I was looking forward to this movie. Trustwort...</td>\n",
       "    </tr>\n",
       "    <tr>\n",
       "      <td>3</td>\n",
       "      <td>Where to start? Some guy has some Indian pot t...</td>\n",
       "    </tr>\n",
       "    <tr>\n",
       "      <td>4</td>\n",
       "      <td>What happened? What we have here is basically ...</td>\n",
       "    </tr>\n",
       "    <tr>\n",
       "      <td>...</td>\n",
       "      <td>...</td>\n",
       "    </tr>\n",
       "    <tr>\n",
       "      <td>29995</td>\n",
       "      <td>I saw UZUMAKI about a year ago and was mesmeri...</td>\n",
       "    </tr>\n",
       "    <tr>\n",
       "      <td>29996</td>\n",
       "      <td>The Sentinel i was hoping would be a good film...</td>\n",
       "    </tr>\n",
       "    <tr>\n",
       "      <td>29997</td>\n",
       "      <td>the Blues are really about, what would it look...</td>\n",
       "    </tr>\n",
       "    <tr>\n",
       "      <td>29998</td>\n",
       "      <td>I really liked this movie, it totally reminds ...</td>\n",
       "    </tr>\n",
       "    <tr>\n",
       "      <td>29999</td>\n",
       "      <td>the plot of both scenes is the same, too. Furt...</td>\n",
       "    </tr>\n",
       "  </tbody>\n",
       "</table>\n",
       "<p>30000 rows × 1 columns</p>\n",
       "</div>"
      ],
      "text/plain": [
       "                                                  review\n",
       "0      I should have never watched this movie. The st...\n",
       "1      Robert Lansing plays a scientist experimenting...\n",
       "2      I was looking forward to this movie. Trustwort...\n",
       "3      Where to start? Some guy has some Indian pot t...\n",
       "4      What happened? What we have here is basically ...\n",
       "...                                                  ...\n",
       "29995  I saw UZUMAKI about a year ago and was mesmeri...\n",
       "29996  The Sentinel i was hoping would be a good film...\n",
       "29997  the Blues are really about, what would it look...\n",
       "29998  I really liked this movie, it totally reminds ...\n",
       "29999  the plot of both scenes is the same, too. Furt...\n",
       "\n",
       "[30000 rows x 1 columns]"
      ]
     },
     "execution_count": 7,
     "metadata": {},
     "output_type": "execute_result"
    }
   ],
   "source": [
    "X = df.drop(['sentiment'], axis=1)\n"
   ]
  },
  {
   "cell_type": "code",
   "execution_count": 15,
   "metadata": {},
   "outputs": [
    {
     "data": {
      "text/plain": [
       "'[\"I should have never watched this movie. The style of filming may be considered artsy to some, but it is considered migraine-inducing to me. I think it may have had an interesting plot, but since I couldn\\'t watch it for long stretches at a time I missed a lot. The flickering pictures and stop motion filming branded my brain. I stopped watching mid way through and won\\'t be back for a second try. I suppose if I were home alone in my own lighthouse some dark and stormy evening, this might be just the ticket... PS Not sure if the lighthouse/ film style thing can be considered a spoiler, but I don\\'t want to be blacklisted on my first review ;)\"]'"
      ]
     },
     "execution_count": 15,
     "metadata": {},
     "output_type": "execute_result"
    }
   ],
   "source": [
    "import string\n",
    "\n",
    "review_lines = list()\n",
    "lines = X.values.tolist()\n",
    "\n"
   ]
  },
  {
   "cell_type": "code",
   "execution_count": 16,
   "metadata": {},
   "outputs": [],
   "source": [
    "for line in lines:\n",
    "    \n",
    "    '''\n",
    "    breaks line into it's sub parts like each word and comma etc,\n",
    "    https://pythonspot.com/tokenizing-words-and-sentences-with-nltk/\n",
    "    '''\n",
    "    line = str(line)\n",
    "    tokens = word_tokenize(line)   \n",
    "    \n",
    "     #convert to lower case\n",
    "    tokens = [w.lower() for w in tokens]\n",
    "    \n",
    "    #remove punctuation from each word\n",
    "    # brief detail: https://pythonadventures.wordpress.com/2017/02/05/remove-punctuations-from-a-text/\n",
    "    table = str.maketrans('','', string.punctuation)\n",
    "    stripped = [w.translate(table) for w in tokens]\n",
    "     \n",
    "    # remove remaining tokens that are not alphabetic\n",
    "    words = [w for w in stripped if w.isalpha()]\n",
    "    \n",
    "    # filter out stop words\n",
    "    stop_words = set(stopwords.words('english'))\n",
    "    words = [w for w in words if w not in stop_words]\n",
    "    \n",
    "    review_lines.append(words)"
   ]
  },
  {
   "cell_type": "code",
   "execution_count": 20,
   "metadata": {},
   "outputs": [
    {
     "name": "stdout",
     "output_type": "stream",
     "text": [
      "vocab size: 93079\n"
     ]
    }
   ],
   "source": [
    "import gensim\n",
    "\n",
    "embedding_vector_size = 150\n",
    "# now training embeddings for each word \n",
    "model_1 = gensim.models.Word2Vec(sentences = review_lines, size=embedding_vector_size, min_count=1, window=5, workers=4 )\n",
    "\n",
    "# to get total number of unique words\n",
    "words = list(model_1.wv.vocab)\n",
    "\n",
    "print(\"vocab size:\", len(words))"
   ]
  },
  {
   "cell_type": "code",
   "execution_count": 21,
   "metadata": {},
   "outputs": [
    {
     "data": {
      "text/plain": [
       "Text(0, 0.5, 'frequency')"
      ]
     },
     "execution_count": 21,
     "metadata": {},
     "output_type": "execute_result"
    },
    {
     "data": {
      "image/png": "[encoded data removed]",
      "text/plain": [
       "<Figure size 432x288 with 1 Axes>"
      ]
     },
     "metadata": {
      "needs_background": "light"
     },
     "output_type": "display_data"
    }
   ],
   "source": [
    "leng=0\n",
    "length = [(leng + len(x)) for x in review_lines]\n",
    "plt.hist(length)\n",
    "plt.xlabel('length of review')\n",
    "plt.ylabel('frequency')"
   ]
  },
  {
   "cell_type": "code",
   "execution_count": 22,
   "metadata": {},
   "outputs": [
    {
     "name": "stdout",
     "output_type": "stream",
     "text": [
      "94.9999\n"
     ]
    }
   ],
   "source": [
    "import math\n",
    "avg_length = sum(length)/len(review_lines)\n",
    "\n",
    "# if words are more than max_length then they are skipped, if less than padding with 0 is done\n",
    "print(avg_length)\n"
   ]
  },
  {
   "cell_type": "code",
   "execution_count": 24,
   "metadata": {},
   "outputs": [
    {
     "data": {
      "text/plain": [
       "95"
      ]
     },
     "execution_count": 24,
     "metadata": {},
     "output_type": "execute_result"
    }
   ],
   "source": [
    "max_len = math.ceil(avg_length) "
   ]
  },
  {
   "cell_type": "code",
   "execution_count": 48,
   "metadata": {},
   "outputs": [],
   "source": [
    "max_features = 10000\n",
    "tokenizer = Tokenizer(num_words=max_features)       #keeps 6000 most common words\n",
    "train_test_data = review_lines                       # contains word tokens extracted from lines\n",
    "tokenizer.fit_on_texts(train_test_data)\n",
    "sequence = tokenizer.texts_to_sequences(train_test_data)\n",
    "train_test_data = pad_sequences(sequence, maxlen = 120)"
   ]
  },
  {
   "cell_type": "code",
   "execution_count": 49,
   "metadata": {},
   "outputs": [],
   "source": [
    "vocab_size = len(tokenizer.word_index)+1\n",
    "embedding_matrix = np.zeros((vocab_size, embedding_vector_size))\n",
    "# +1 is done because i starts from 1 instead of 0, and goes till len(vocab)\n",
    "for  word, i in tokenizer.word_index.items():\n",
    "    embedding_vector = model_1.wv[word]\n",
    "    if embedding_vector is not None:\n",
    "        embedding_matrix[i] = embedding_vector"
   ]
  },
  {
   "cell_type": "code",
   "execution_count": 50,
   "metadata": {},
   "outputs": [],
   "source": [
    "X = train_test_data"
   ]
  },
  {
   "cell_type": "code",
   "execution_count": 53,
   "metadata": {},
   "outputs": [],
   "source": [
    "from tensorflow.core.protobuf import rewriter_config_pb2\n",
    "from tensorflow.keras.backend import set_session\n",
    "tf.keras.backend.clear_session()  # For easy reset of notebook state.\n",
    "\n",
    "config_proto = tf.ConfigProto()\n",
    "off = rewriter_config_pb2.RewriterConfig.OFF\n",
    "config_proto.graph_options.rewrite_options.arithmetic_optimization = off\n",
    "session = tf.Session(config=config_proto)\n",
    "set_session(session)"
   ]
  },
  {
   "cell_type": "code",
   "execution_count": 60,
   "metadata": {},
   "outputs": [
    {
     "name": "stdout",
     "output_type": "stream",
     "text": [
      "_________________________________________________________________\n",
      "Layer (type)                 Output Shape              Param #   \n",
      "=================================================================\n",
      "embedding_4 (Embedding)      (None, 120, 150)          13962000  \n",
      "_________________________________________________________________\n",
      "bidirectional_4 (Bidirection (None, 128)               110080    \n",
      "_________________________________________________________________\n",
      "dense_8 (Dense)              (None, 10)                1290      \n",
      "_________________________________________________________________\n",
      "dropout_4 (Dropout)          (None, 10)                0         \n",
      "_________________________________________________________________\n",
      "dense_9 (Dense)              (None, 1)                 11        \n",
      "=================================================================\n",
      "Total params: 14,073,381\n",
      "Trainable params: 14,073,381\n",
      "Non-trainable params: 0\n",
      "_________________________________________________________________\n",
      "None\n"
     ]
    }
   ],
   "source": [
    "X_train, X_test, y_train, y_test = train_test_split(X, y, test_size=0.2)\n",
    "\n",
    "model = Sequential()\n",
    "\n",
    "model.add(Embedding(input_dim = vocab_size, output_dim = embedding_vector_size, \n",
    "                    input_length = 120, weights = [embedding_matrix]))\n",
    "model.add(Bidirectional(LSTM(64, dropout=0.25, recurrent_dropout=0.1)))\n",
    "model.add(Dense(10))\n",
    "model.add(Dropout(0.3))\n",
    "model.add(Dense(1, activation='sigmoid'))\n",
    "\n",
    "\n",
    "\n",
    "model.compile(optimizer='RMSProp', loss='binary_crossentropy', metrics=['accuracy'])\n",
    "print(model.summary())"
   ]
  },
  {
   "cell_type": "code",
   "execution_count": 62,
   "metadata": {},
   "outputs": [
    {
     "name": "stdout",
     "output_type": "stream",
     "text": [
      "Train on 24000 samples, validate on 6000 samples\n",
      "Epoch 1/15\n",
      "24000/24000 [==============================] - 282s 12ms/sample - loss: 0.1053 - acc: 0.9631 - val_loss: 0.3892 - val_acc: 0.8822\n",
      "Epoch 2/15\n",
      "24000/24000 [==============================] - 267s 11ms/sample - loss: 0.0905 - acc: 0.9687 - val_loss: 0.4428 - val_acc: 0.8785\n",
      "Epoch 3/15\n",
      "24000/24000 [==============================] - 268s 11ms/sample - loss: 0.0799 - acc: 0.9742 - val_loss: 0.4701 - val_acc: 0.8762\n",
      "Epoch 4/15\n",
      "24000/24000 [==============================] - 398s 17ms/sample - loss: 0.0676 - acc: 0.9770 - val_loss: 0.5215 - val_acc: 0.8700\n",
      "Epoch 5/15\n",
      "24000/24000 [==============================] - 443s 18ms/sample - loss: 0.0564 - acc: 0.9812 - val_loss: 0.5970 - val_acc: 0.8748\n",
      "Epoch 6/15\n",
      "24000/24000 [==============================] - 423s 18ms/sample - loss: 0.0480 - acc: 0.9839 - val_loss: 0.6541 - val_acc: 0.8722\n",
      "Epoch 7/15\n",
      "24000/24000 [==============================] - 444s 18ms/sample - loss: 0.0385 - acc: 0.9868 - val_loss: 0.7102 - val_acc: 0.8705\n",
      "Epoch 8/15\n",
      "24000/24000 [==============================] - 517s 22ms/sample - loss: 0.0345 - acc: 0.9890 - val_loss: 0.7723 - val_acc: 0.8682\n",
      "Epoch 9/15\n",
      "24000/24000 [==============================] - 266s 11ms/sample - loss: 0.0284 - acc: 0.9905 - val_loss: 0.8200 - val_acc: 0.8537\n",
      "Epoch 10/15\n",
      "24000/24000 [==============================] - 273s 11ms/sample - loss: 0.0247 - acc: 0.9924 - val_loss: 0.8735 - val_acc: 0.8673\n",
      "Epoch 11/15\n",
      "24000/24000 [==============================] - 342s 14ms/sample - loss: 0.0200 - acc: 0.9940 - val_loss: 1.0659 - val_acc: 0.8623\n",
      "Epoch 12/15\n",
      "24000/24000 [==============================] - 269s 11ms/sample - loss: 0.0179 - acc: 0.9936 - val_loss: 1.0277 - val_acc: 0.8612\n",
      "Epoch 13/15\n",
      "24000/24000 [==============================] - 271s 11ms/sample - loss: 0.0143 - acc: 0.9955 - val_loss: 1.0910 - val_acc: 0.8605\n",
      "Epoch 14/15\n",
      "24000/24000 [==============================] - 272s 11ms/sample - loss: 0.0153 - acc: 0.9953 - val_loss: 1.1196 - val_acc: 0.8597\n",
      "Epoch 15/15\n",
      "24000/24000 [==============================] - 272s 11ms/sample - loss: 0.0122 - acc: 0.9960 - val_loss: 1.1583 - val_acc: 0.8628\n"
     ]
    }
   ],
   "source": [
    "history = model.fit(X_train, y_train, epochs = 15, validation_data=[X_test, y_test])\n"
   ]
  },
  {
   "cell_type": "code",
   "execution_count": 65,
   "metadata": {},
   "outputs": [],
   "source": [
    "max_length_list = [90, 100, 110, 120, 130, 140, 150]\n"
   ]
  },
  {
   "cell_type": "code",
   "execution_count": 72,
   "metadata": {},
   "outputs": [],
   "source": [
    "def test_max_length(max_list):\n",
    "    hist_list = list()\n",
    "    for ml in max_list:\n",
    "        max_features = 10000\n",
    "        tokenizer = Tokenizer(num_words=max_features)       #keeps 6000 most common words\n",
    "        train_test_data = review_lines                       # contains word tokens extracted from lines\n",
    "        tokenizer.fit_on_texts(train_test_data)\n",
    "        sequence = tokenizer.texts_to_sequences(train_test_data)\n",
    "        train_test_data = pad_sequences(sequence, maxlen = ml)\n",
    "        \n",
    "        \n",
    "        vocab_size = len(tokenizer.word_index)+1\n",
    "        embedding_matrix = np.zeros((vocab_size, embedding_vector_size))\n",
    "        # +1 is done because i starts from 1 instead of 0, and goes till len(vocab)\n",
    "        for  word, i in tokenizer.word_index.items():\n",
    "            embedding_vector = model_1.wv[word]\n",
    "            if embedding_vector is not None:\n",
    "                embedding_matrix[i] = embedding_vector\n",
    "        \n",
    "        X = train_test_data\n",
    "        \n",
    "        tf.keras.backend.clear_session()  # For easy reset of notebook state.\n",
    "        config_proto = tf.ConfigProto()\n",
    "        off = rewriter_config_pb2.RewriterConfig.OFF\n",
    "        config_proto.graph_options.rewrite_options.arithmetic_optimization = off\n",
    "        session = tf.Session(config=config_proto)\n",
    "        set_session(session)\n",
    "        \n",
    "        \n",
    "        X_train, X_test, y_train, y_test = train_test_split(X, y, test_size=0.2)\n",
    "\n",
    "        model = Sequential()\n",
    "\n",
    "        model.add(Embedding(input_dim = vocab_size, output_dim = embedding_vector_size, \n",
    "                            input_length = ml, weights = [embedding_matrix]))\n",
    "        model.add(Bidirectional(LSTM(64, dropout=0.25, recurrent_dropout=0.1)))\n",
    "        model.add(Dense(10))\n",
    "        model.add(Dropout(0.3))\n",
    "        model.add(Dense(1, activation='sigmoid'))\n",
    "        model.compile(optimizer='RMSProp', loss='binary_crossentropy', metrics=['accuracy'])\n",
    "        history = model.fit(X_train, y_train, epochs = 10, validation_data=[X_test, y_test])\n",
    "        hist_list.append(history)\n",
    "    return hist_list\n",
    "\n",
    "        \n",
    "        "
   ]
  },
  {
   "cell_type": "code",
   "execution_count": 71,
   "metadata": {},
   "outputs": [
    {
     "name": "stdout",
     "output_type": "stream",
     "text": [
      "Train on 24000 samples, validate on 6000 samples\n",
      "Epoch 1/10\n",
      "24000/24000 [==============================] - 215s 9ms/sample - loss: 0.4804 - acc: 0.7725 - val_loss: 0.4010 - val_acc: 0.8273\n",
      "Epoch 2/10\n",
      "24000/24000 [==============================] - 220s 9ms/sample - loss: 0.3542 - acc: 0.8518 - val_loss: 0.3265 - val_acc: 0.8587\n",
      "Epoch 3/10\n",
      "24000/24000 [==============================] - 219s 9ms/sample - loss: 0.2899 - acc: 0.8815 - val_loss: 0.3305 - val_acc: 0.8693\n",
      "Epoch 4/10\n",
      "24000/24000 [==============================] - 221s 9ms/sample - loss: 0.2508 - acc: 0.9011 - val_loss: 0.3832 - val_acc: 0.8702\n",
      "Epoch 5/10\n",
      "24000/24000 [==============================] - 222s 9ms/sample - loss: 0.2202 - acc: 0.9171 - val_loss: 0.3253 - val_acc: 0.8717\n",
      "Epoch 6/10\n",
      "24000/24000 [==============================] - 224s 9ms/sample - loss: 0.1946 - acc: 0.9265 - val_loss: 0.3584 - val_acc: 0.8692\n",
      "Epoch 7/10\n",
      "24000/24000 [==============================] - 226s 9ms/sample - loss: 0.1784 - acc: 0.9352 - val_loss: 0.3635 - val_acc: 0.8710\n",
      "Epoch 8/10\n",
      "24000/24000 [==============================] - 229s 10ms/sample - loss: 0.1588 - acc: 0.9436 - val_loss: 0.3636 - val_acc: 0.8672\n",
      "Epoch 9/10\n",
      "24000/24000 [==============================] - 227s 9ms/sample - loss: 0.1406 - acc: 0.9499 - val_loss: 0.3990 - val_acc: 0.8625\n",
      "Epoch 10/10\n",
      "24000/24000 [==============================] - 220s 9ms/sample - loss: 0.1191 - acc: 0.9576 - val_loss: 0.4460 - val_acc: 0.8625\n",
      "Train on 24000 samples, validate on 6000 samples\n",
      "Epoch 1/10\n",
      "24000/24000 [==============================] - 234s 10ms/sample - loss: 0.4941 - acc: 0.7644 - val_loss: 0.3689 - val_acc: 0.8380\n",
      "Epoch 2/10\n",
      "24000/24000 [==============================] - 233s 10ms/sample - loss: 0.3559 - acc: 0.8493 - val_loss: 0.3133 - val_acc: 0.8645\n",
      "Epoch 3/10\n",
      "24000/24000 [==============================] - 236s 10ms/sample - loss: 0.2936 - acc: 0.8820 - val_loss: 0.2963 - val_acc: 0.8738\n",
      "Epoch 4/10\n",
      "24000/24000 [==============================] - 235s 10ms/sample - loss: 0.2500 - acc: 0.9000 - val_loss: 0.3036 - val_acc: 0.8752\n",
      "Epoch 5/10\n",
      "24000/24000 [==============================] - 234s 10ms/sample - loss: 0.2205 - acc: 0.9151 - val_loss: 0.2952 - val_acc: 0.8830\n",
      "Epoch 6/10\n",
      "24000/24000 [==============================] - 233s 10ms/sample - loss: 0.1955 - acc: 0.9247 - val_loss: 0.3096 - val_acc: 0.8808\n",
      "Epoch 7/10\n",
      "24000/24000 [==============================] - 231s 10ms/sample - loss: 0.1765 - acc: 0.9349 - val_loss: 0.3254 - val_acc: 0.8835\n",
      "Epoch 8/10\n",
      "24000/24000 [==============================] - 232s 10ms/sample - loss: 0.1566 - acc: 0.9445 - val_loss: 0.3221 - val_acc: 0.8820\n",
      "Epoch 9/10\n",
      "24000/24000 [==============================] - 231s 10ms/sample - loss: 0.1417 - acc: 0.9503 - val_loss: 0.3488 - val_acc: 0.8828\n",
      "Epoch 10/10\n",
      "24000/24000 [==============================] - 232s 10ms/sample - loss: 0.1171 - acc: 0.9590 - val_loss: 0.3976 - val_acc: 0.8753\n",
      "Train on 24000 samples, validate on 6000 samples\n",
      "Epoch 1/10\n",
      "24000/24000 [==============================] - 245s 10ms/sample - loss: 0.4938 - acc: 0.7640 - val_loss: 0.3788 - val_acc: 0.8327\n",
      "Epoch 2/10\n",
      "24000/24000 [==============================] - 243s 10ms/sample - loss: 0.3621 - acc: 0.8475 - val_loss: 0.3317 - val_acc: 0.8535\n",
      "Epoch 3/10\n",
      "24000/24000 [==============================] - 244s 10ms/sample - loss: 0.2916 - acc: 0.8829 - val_loss: 0.3134 - val_acc: 0.8638\n",
      "Epoch 4/10\n",
      "24000/24000 [==============================] - 241s 10ms/sample - loss: 0.2538 - acc: 0.9000 - val_loss: 0.2926 - val_acc: 0.8803\n",
      "Epoch 5/10\n",
      "24000/24000 [==============================] - 242s 10ms/sample - loss: 0.2225 - acc: 0.9149 - val_loss: 0.2993 - val_acc: 0.8802\n",
      "Epoch 6/10\n",
      "24000/24000 [==============================] - 242s 10ms/sample - loss: 0.1981 - acc: 0.9256 - val_loss: 0.3277 - val_acc: 0.8788\n",
      "Epoch 7/10\n",
      "24000/24000 [==============================] - 243s 10ms/sample - loss: 0.1797 - acc: 0.9340 - val_loss: 0.3200 - val_acc: 0.8750\n",
      "Epoch 8/10\n",
      "24000/24000 [==============================] - 239s 10ms/sample - loss: 0.1597 - acc: 0.9407 - val_loss: 0.3587 - val_acc: 0.8705\n",
      "Epoch 9/10\n",
      "24000/24000 [==============================] - 243s 10ms/sample - loss: 0.1428 - acc: 0.9498 - val_loss: 0.3728 - val_acc: 0.8643\n",
      "Epoch 10/10\n",
      "24000/24000 [==============================] - 240s 10ms/sample - loss: 0.1246 - acc: 0.9565 - val_loss: 0.4690 - val_acc: 0.8572\n",
      "Train on 24000 samples, validate on 6000 samples\n",
      "Epoch 1/10\n",
      "24000/24000 [==============================] - 258s 11ms/sample - loss: 0.4874 - acc: 0.7714 - val_loss: 0.3691 - val_acc: 0.8358\n",
      "Epoch 2/10\n",
      "24000/24000 [==============================] - 254s 11ms/sample - loss: 0.3586 - acc: 0.8482 - val_loss: 0.3136 - val_acc: 0.8652\n",
      "Epoch 3/10\n",
      "24000/24000 [==============================] - 254s 11ms/sample - loss: 0.2941 - acc: 0.8827 - val_loss: 0.3020 - val_acc: 0.8773\n",
      "Epoch 4/10\n",
      "24000/24000 [==============================] - 255s 11ms/sample - loss: 0.2454 - acc: 0.9069 - val_loss: 0.2913 - val_acc: 0.8757\n",
      "Epoch 5/10\n",
      "24000/24000 [==============================] - 254s 11ms/sample - loss: 0.2183 - acc: 0.9183 - val_loss: 0.3063 - val_acc: 0.8803\n",
      "Epoch 6/10\n",
      "24000/24000 [==============================] - 256s 11ms/sample - loss: 0.1921 - acc: 0.9273 - val_loss: 0.3120 - val_acc: 0.8785\n",
      "Epoch 7/10\n",
      "24000/24000 [==============================] - 254s 11ms/sample - loss: 0.1759 - acc: 0.9360 - val_loss: 0.3152 - val_acc: 0.8823\n",
      "Epoch 8/10\n",
      "24000/24000 [==============================] - 254s 11ms/sample - loss: 0.1571 - acc: 0.9425 - val_loss: 0.3613 - val_acc: 0.8788\n",
      "Epoch 9/10\n",
      "24000/24000 [==============================] - 255s 11ms/sample - loss: 0.1386 - acc: 0.9497 - val_loss: 0.3818 - val_acc: 0.8782\n",
      "Epoch 10/10\n",
      "24000/24000 [==============================] - 254s 11ms/sample - loss: 0.1209 - acc: 0.9565 - val_loss: 0.4207 - val_acc: 0.8738\n",
      "Train on 24000 samples, validate on 6000 samples\n",
      "Epoch 1/10\n",
      "24000/24000 [==============================] - 268s 11ms/sample - loss: 0.4933 - acc: 0.7645 - val_loss: 0.3729 - val_acc: 0.8315\n",
      "Epoch 2/10\n",
      "24000/24000 [==============================] - 265s 11ms/sample - loss: 0.3641 - acc: 0.8455 - val_loss: 0.3170 - val_acc: 0.8657\n",
      "Epoch 3/10\n",
      "24000/24000 [==============================] - 269s 11ms/sample - loss: 0.2949 - acc: 0.8817 - val_loss: 0.2969 - val_acc: 0.8780\n",
      "Epoch 4/10\n",
      "24000/24000 [==============================] - 265s 11ms/sample - loss: 0.2504 - acc: 0.9020 - val_loss: 0.2885 - val_acc: 0.8787\n",
      "Epoch 5/10\n",
      "24000/24000 [==============================] - 264s 11ms/sample - loss: 0.2213 - acc: 0.9163 - val_loss: 0.3026 - val_acc: 0.8840\n",
      "Epoch 6/10\n",
      "24000/24000 [==============================] - 269s 11ms/sample - loss: 0.1955 - acc: 0.9265 - val_loss: 0.3098 - val_acc: 0.8782\n",
      "Epoch 7/10\n",
      "24000/24000 [==============================] - 263s 11ms/sample - loss: 0.1778 - acc: 0.9350 - val_loss: 0.3244 - val_acc: 0.8828\n",
      "Epoch 8/10\n",
      "24000/24000 [==============================] - 265s 11ms/sample - loss: 0.1643 - acc: 0.9402 - val_loss: 0.3623 - val_acc: 0.8740\n",
      "Epoch 9/10\n",
      "24000/24000 [==============================] - 273s 11ms/sample - loss: 0.1445 - acc: 0.9477 - val_loss: 0.3495 - val_acc: 0.8810\n",
      "Epoch 10/10\n",
      "24000/24000 [==============================] - 289s 12ms/sample - loss: 0.1276 - acc: 0.9553 - val_loss: 0.3555 - val_acc: 0.8767\n",
      "Train on 24000 samples, validate on 6000 samples\n",
      "Epoch 1/10\n",
      "24000/24000 [==============================] - 310s 13ms/sample - loss: 0.4906 - acc: 0.7688 - val_loss: 0.3990 - val_acc: 0.8237\n",
      "Epoch 2/10\n",
      "24000/24000 [==============================] - 290s 12ms/sample - loss: 0.3565 - acc: 0.8504 - val_loss: 0.3314 - val_acc: 0.8587\n",
      "Epoch 3/10\n",
      "24000/24000 [==============================] - 280s 12ms/sample - loss: 0.2922 - acc: 0.8810 - val_loss: 0.3022 - val_acc: 0.8752\n",
      "Epoch 4/10\n",
      "24000/24000 [==============================] - 292s 12ms/sample - loss: 0.2504 - acc: 0.9028 - val_loss: 0.3068 - val_acc: 0.8748\n",
      "Epoch 5/10\n",
      "24000/24000 [==============================] - 306s 13ms/sample - loss: 0.2233 - acc: 0.9157 - val_loss: 0.2898 - val_acc: 0.8793\n",
      "Epoch 6/10\n",
      "24000/24000 [==============================] - 311s 13ms/sample - loss: 0.2001 - acc: 0.9258 - val_loss: 0.3018 - val_acc: 0.8785\n",
      "Epoch 7/10\n"
     ]
    },
    {
     "name": "stdout",
     "output_type": "stream",
     "text": [
      "24000/24000 [==============================] - 295s 12ms/sample - loss: 0.1759 - acc: 0.9344 - val_loss: 0.3132 - val_acc: 0.8768\n",
      "Epoch 8/10\n",
      "24000/24000 [==============================] - 330s 14ms/sample - loss: 0.1596 - acc: 0.9415 - val_loss: 0.3779 - val_acc: 0.8752\n",
      "Epoch 9/10\n",
      "24000/24000 [==============================] - 306s 13ms/sample - loss: 0.1439 - acc: 0.9479 - val_loss: 0.3691 - val_acc: 0.8768\n",
      "Epoch 10/10\n",
      "24000/24000 [==============================] - 303s 13ms/sample - loss: 0.1234 - acc: 0.9574 - val_loss: 0.3906 - val_acc: 0.8663\n",
      "Train on 24000 samples, validate on 6000 samples\n",
      "Epoch 1/10\n",
      "24000/24000 [==============================] - 324s 14ms/sample - loss: 0.4882 - acc: 0.7683 - val_loss: 0.3903 - val_acc: 0.8330\n",
      "Epoch 2/10\n",
      "24000/24000 [==============================] - 310s 13ms/sample - loss: 0.3566 - acc: 0.8495 - val_loss: 0.3192 - val_acc: 0.8620\n",
      "Epoch 3/10\n",
      "24000/24000 [==============================] - 334s 14ms/sample - loss: 0.2953 - acc: 0.8817 - val_loss: 0.3311 - val_acc: 0.8672\n",
      "Epoch 4/10\n",
      "24000/24000 [==============================] - 333s 14ms/sample - loss: 0.2518 - acc: 0.9031 - val_loss: 0.2882 - val_acc: 0.8795\n",
      "Epoch 5/10\n",
      "24000/24000 [==============================] - 326s 14ms/sample - loss: 0.2176 - acc: 0.9175 - val_loss: 0.3010 - val_acc: 0.8693\n",
      "Epoch 6/10\n",
      "24000/24000 [==============================] - 324s 14ms/sample - loss: 0.1947 - acc: 0.9254 - val_loss: 0.3053 - val_acc: 0.8798\n",
      "Epoch 7/10\n",
      "24000/24000 [==============================] - 325s 14ms/sample - loss: 0.1730 - acc: 0.9361 - val_loss: 0.3350 - val_acc: 0.8807\n",
      "Epoch 8/10\n",
      "24000/24000 [==============================] - 330s 14ms/sample - loss: 0.1572 - acc: 0.9430 - val_loss: 0.3556 - val_acc: 0.8793\n",
      "Epoch 9/10\n",
      "24000/24000 [==============================] - 322s 13ms/sample - loss: 0.1422 - acc: 0.9499 - val_loss: 0.3569 - val_acc: 0.8737\n",
      "Epoch 10/10\n",
      "24000/24000 [==============================] - 327s 14ms/sample - loss: 0.1240 - acc: 0.9571 - val_loss: 0.4172 - val_acc: 0.8737\n"
     ]
    },
    {
     "ename": "NameError",
     "evalue": "name 'history_list' is not defined",
     "output_type": "error",
     "traceback": [
      "\u001b[1;31m---------------------------------------------------------------------------\u001b[0m",
      "\u001b[1;31mNameError\u001b[0m                                 Traceback (most recent call last)",
      "\u001b[1;32m<ipython-input-71-afcdada03c32>\u001b[0m in \u001b[0;36m<module>\u001b[1;34m\u001b[0m\n\u001b[1;32m----> 1\u001b[1;33m \u001b[0mhist_list\u001b[0m \u001b[1;33m=\u001b[0m \u001b[0mtest_max_length\u001b[0m\u001b[1;33m(\u001b[0m\u001b[0mmax_length_list\u001b[0m\u001b[1;33m)\u001b[0m\u001b[1;33m\u001b[0m\u001b[1;33m\u001b[0m\u001b[0m\n\u001b[0m",
      "\u001b[1;32m<ipython-input-69-637094a4a59d>\u001b[0m in \u001b[0;36mtest_max_length\u001b[1;34m(max_list)\u001b[0m\n\u001b[0;32m     41\u001b[0m         \u001b[0mhistory\u001b[0m \u001b[1;33m=\u001b[0m \u001b[0mmodel\u001b[0m\u001b[1;33m.\u001b[0m\u001b[0mfit\u001b[0m\u001b[1;33m(\u001b[0m\u001b[0mX_train\u001b[0m\u001b[1;33m,\u001b[0m \u001b[0my_train\u001b[0m\u001b[1;33m,\u001b[0m \u001b[0mepochs\u001b[0m \u001b[1;33m=\u001b[0m \u001b[1;36m10\u001b[0m\u001b[1;33m,\u001b[0m \u001b[0mvalidation_data\u001b[0m\u001b[1;33m=\u001b[0m\u001b[1;33m[\u001b[0m\u001b[0mX_test\u001b[0m\u001b[1;33m,\u001b[0m \u001b[0my_test\u001b[0m\u001b[1;33m]\u001b[0m\u001b[1;33m)\u001b[0m\u001b[1;33m\u001b[0m\u001b[1;33m\u001b[0m\u001b[0m\n\u001b[0;32m     42\u001b[0m         \u001b[0mhist_list\u001b[0m\u001b[1;33m.\u001b[0m\u001b[0mappend\u001b[0m\u001b[1;33m(\u001b[0m\u001b[0mhistory\u001b[0m\u001b[1;33m)\u001b[0m\u001b[1;33m\u001b[0m\u001b[1;33m\u001b[0m\u001b[0m\n\u001b[1;32m---> 43\u001b[1;33m     \u001b[1;32mreturn\u001b[0m \u001b[0mhistory_list\u001b[0m\u001b[1;33m\u001b[0m\u001b[1;33m\u001b[0m\u001b[0m\n\u001b[0m\u001b[0;32m     44\u001b[0m \u001b[1;33m\u001b[0m\u001b[0m\n\u001b[0;32m     45\u001b[0m \u001b[1;33m\u001b[0m\u001b[0m\n",
      "\u001b[1;31mNameError\u001b[0m: name 'history_list' is not defined"
     ]
    }
   ],
   "source": [
    "hist_list = test_max_length(max_length_list)"
   ]
  },
  {
   "cell_type": "code",
   "execution_count": 78,
   "metadata": {},
   "outputs": [],
   "source": [
    "def test_max_features(max_list):\n",
    "    hist_list = list()\n",
    "   \n",
    "    for mf in max_list:\n",
    "        max_features = mf\n",
    "        tokenizer = Tokenizer(num_words=max_features)       #keeps 6000 most common words\n",
    "        train_test_data = review_lines                       # contains word tokens extracted from lines\n",
    "        tokenizer.fit_on_texts(train_test_data)\n",
    "        sequence = tokenizer.texts_to_sequences(train_test_data)\n",
    "        train_test_data = pad_sequences(sequence, maxlen = 120)\n",
    "        \n",
    "        X = train_test_data\n",
    "        X_train, X_test, y_train, y_test = train_test_split(X, y, test_size=0.2)\n",
    "\n",
    "        \n",
    "        vocab_size = len(tokenizer.word_index)+1\n",
    "        embedding_matrix = np.zeros((vocab_size, embedding_vector_size))\n",
    "        # +1 is done because i starts from 1 instead of 0, and goes till len(vocab)\n",
    "        for  word, i in tokenizer.word_index.items():\n",
    "            embedding_vector = model_1.wv[word]\n",
    "            if embedding_vector is not None:\n",
    "                embedding_matrix[i] = embedding_vector\n",
    "        \n",
    "        tf.keras.backend.clear_session()  # For easy reset of notebook state.\n",
    "        config_proto = tf.ConfigProto()\n",
    "        off = rewriter_config_pb2.RewriterConfig.OFF\n",
    "        config_proto.graph_options.rewrite_options.arithmetic_optimization = off\n",
    "        session = tf.Session(config=config_proto)\n",
    "        set_session(session)\n",
    "        \n",
    "        model = Sequential()\n",
    "\n",
    "        model.add(Embedding(input_dim = vocab_size, output_dim = embedding_vector_size, \n",
    "                            input_length = 120, weights = [embedding_matrix]))\n",
    "        model.add(Bidirectional(LSTM(64, dropout=0.25, recurrent_dropout=0.1)))\n",
    "        model.add(Dense(10))\n",
    "        model.add(Dropout(0.3))\n",
    "        model.add(Dense(1, activation='sigmoid'))\n",
    "        model.compile(optimizer='RMSProp', loss='binary_crossentropy', metrics=['accuracy'])\n",
    "        history = model.fit(X_train, y_train, epochs = 10, validation_data=[X_test, y_test])\n",
    "        hist_list.append(history)\n",
    "    return hist_list\n"
   ]
  },
  {
   "cell_type": "code",
   "execution_count": 79,
   "metadata": {},
   "outputs": [],
   "source": [
    "max_features_list = [5000,6000,8000,10000,12000,15000,17500,20000,25000,40000,50000]"
   ]
  },
  {
   "cell_type": "code",
   "execution_count": 80,
   "metadata": {},
   "outputs": [
    {
     "name": "stdout",
     "output_type": "stream",
     "text": [
      "Train on 24000 samples, validate on 6000 samples\n",
      "Epoch 1/10\n",
      "24000/24000 [==============================] - 292s 12ms/sample - loss: 0.4901 - acc: 0.7705 - val_loss: 0.3618 - val_acc: 0.8373\n",
      "Epoch 2/10\n",
      "24000/24000 [==============================] - 288s 12ms/sample - loss: 0.3720 - acc: 0.8425 - val_loss: 0.3247 - val_acc: 0.8580\n",
      "Epoch 3/10\n",
      "24000/24000 [==============================] - 295s 12ms/sample - loss: 0.3202 - acc: 0.8679 - val_loss: 0.3070 - val_acc: 0.8737\n",
      "Epoch 4/10\n",
      "24000/24000 [==============================] - 294s 12ms/sample - loss: 0.2821 - acc: 0.8861 - val_loss: 0.2950 - val_acc: 0.8793\n",
      "Epoch 5/10\n",
      "24000/24000 [==============================] - 288s 12ms/sample - loss: 0.2646 - acc: 0.8963 - val_loss: 0.3078 - val_acc: 0.8795\n",
      "Epoch 6/10\n",
      "24000/24000 [==============================] - 427s 18ms/sample - loss: 0.2437 - acc: 0.9050 - val_loss: 0.2980 - val_acc: 0.8775\n",
      "Epoch 7/10\n",
      "24000/24000 [==============================] - 490s 20ms/sample - loss: 0.2255 - acc: 0.9139 - val_loss: 0.3281 - val_acc: 0.8753\n",
      "Epoch 8/10\n",
      "24000/24000 [==============================] - 330s 14ms/sample - loss: 0.2121 - acc: 0.9182 - val_loss: 0.3282 - val_acc: 0.8782\n",
      "Epoch 9/10\n",
      "24000/24000 [==============================] - 287s 12ms/sample - loss: 0.1978 - acc: 0.9250 - val_loss: 0.3646 - val_acc: 0.8807\n",
      "Epoch 10/10\n",
      "24000/24000 [==============================] - 289s 12ms/sample - loss: 0.1780 - acc: 0.9339 - val_loss: 0.3444 - val_acc: 0.8775\n",
      "Train on 24000 samples, validate on 6000 samples\n",
      "Epoch 1/10\n",
      "24000/24000 [==============================] - 289s 12ms/sample - loss: 0.4741 - acc: 0.7757 - val_loss: 0.3521 - val_acc: 0.8507\n",
      "Epoch 2/10\n",
      "24000/24000 [==============================] - 280s 12ms/sample - loss: 0.3583 - acc: 0.8488 - val_loss: 0.3141 - val_acc: 0.8655\n",
      "Epoch 3/10\n",
      "24000/24000 [==============================] - 293s 12ms/sample - loss: 0.3028 - acc: 0.8786 - val_loss: 0.3312 - val_acc: 0.8655\n",
      "Epoch 4/10\n",
      "24000/24000 [==============================] - 288s 12ms/sample - loss: 0.2726 - acc: 0.8917 - val_loss: 0.3406 - val_acc: 0.8663\n",
      "Epoch 5/10\n",
      "24000/24000 [==============================] - 300s 13ms/sample - loss: 0.2463 - acc: 0.9035 - val_loss: 0.3117 - val_acc: 0.8748\n",
      "Epoch 6/10\n",
      "24000/24000 [==============================] - 301s 13ms/sample - loss: 0.2278 - acc: 0.9118 - val_loss: 0.3508 - val_acc: 0.8672\n",
      "Epoch 7/10\n",
      "24000/24000 [==============================] - 294s 12ms/sample - loss: 0.2102 - acc: 0.9205 - val_loss: 0.3264 - val_acc: 0.8723\n",
      "Epoch 8/10\n",
      "24000/24000 [==============================] - 282s 12ms/sample - loss: 0.1920 - acc: 0.9282 - val_loss: 0.3481 - val_acc: 0.8705\n",
      "Epoch 9/10\n",
      "24000/24000 [==============================] - 279s 12ms/sample - loss: 0.1698 - acc: 0.9378 - val_loss: 0.3603 - val_acc: 0.8655\n",
      "Epoch 10/10\n",
      "24000/24000 [==============================] - 275s 11ms/sample - loss: 0.1517 - acc: 0.9435 - val_loss: 0.4206 - val_acc: 0.8667\n",
      "Train on 24000 samples, validate on 6000 samples\n",
      "Epoch 1/10\n",
      "24000/24000 [==============================] - 280s 12ms/sample - loss: 0.4860 - acc: 0.7708 - val_loss: 0.3767 - val_acc: 0.8367\n",
      "Epoch 2/10\n",
      "24000/24000 [==============================] - 279s 12ms/sample - loss: 0.3597 - acc: 0.8499 - val_loss: 0.3123 - val_acc: 0.8680\n",
      "Epoch 3/10\n",
      "24000/24000 [==============================] - 278s 12ms/sample - loss: 0.2963 - acc: 0.8809 - val_loss: 0.2889 - val_acc: 0.8813\n",
      "Epoch 4/10\n",
      "24000/24000 [==============================] - 271s 11ms/sample - loss: 0.2581 - acc: 0.8989 - val_loss: 0.3014 - val_acc: 0.8793\n",
      "Epoch 5/10\n",
      "24000/24000 [==============================] - 265s 11ms/sample - loss: 0.2305 - acc: 0.9110 - val_loss: 0.2904 - val_acc: 0.8743\n",
      "Epoch 6/10\n",
      "24000/24000 [==============================] - 268s 11ms/sample - loss: 0.2093 - acc: 0.9221 - val_loss: 0.3177 - val_acc: 0.8743\n",
      "Epoch 7/10\n",
      "24000/24000 [==============================] - 265s 11ms/sample - loss: 0.1877 - acc: 0.9306 - val_loss: 0.3329 - val_acc: 0.8783\n",
      "Epoch 8/10\n",
      "24000/24000 [==============================] - 267s 11ms/sample - loss: 0.1721 - acc: 0.9377 - val_loss: 0.3289 - val_acc: 0.8713\n",
      "Epoch 9/10\n",
      "24000/24000 [==============================] - 264s 11ms/sample - loss: 0.1563 - acc: 0.9423 - val_loss: 0.3549 - val_acc: 0.8697\n",
      "Epoch 10/10\n",
      "24000/24000 [==============================] - 268s 11ms/sample - loss: 0.1329 - acc: 0.9538 - val_loss: 0.3941 - val_acc: 0.8690\n",
      "Train on 24000 samples, validate on 6000 samples\n",
      "Epoch 1/10\n",
      "24000/24000 [==============================] - 294s 12ms/sample - loss: 0.4917 - acc: 0.7648 - val_loss: 0.3768 - val_acc: 0.8303\n",
      "Epoch 2/10\n",
      "24000/24000 [==============================] - 261s 11ms/sample - loss: 0.3557 - acc: 0.8524 - val_loss: 0.3217 - val_acc: 0.8570\n",
      "Epoch 3/10\n",
      "24000/24000 [==============================] - 261s 11ms/sample - loss: 0.2922 - acc: 0.8815 - val_loss: 0.2859 - val_acc: 0.8777\n",
      "Epoch 4/10\n",
      "24000/24000 [==============================] - 262s 11ms/sample - loss: 0.2507 - acc: 0.9034 - val_loss: 0.2869 - val_acc: 0.8800\n",
      "Epoch 5/10\n",
      "24000/24000 [==============================] - 261s 11ms/sample - loss: 0.2196 - acc: 0.9159 - val_loss: 0.3091 - val_acc: 0.8785\n",
      "Epoch 6/10\n",
      "24000/24000 [==============================] - 261s 11ms/sample - loss: 0.1963 - acc: 0.9266 - val_loss: 0.3321 - val_acc: 0.8717\n",
      "Epoch 7/10\n",
      "24000/24000 [==============================] - 261s 11ms/sample - loss: 0.1768 - acc: 0.9340 - val_loss: 0.3524 - val_acc: 0.8828\n",
      "Epoch 8/10\n",
      "24000/24000 [==============================] - 262s 11ms/sample - loss: 0.1589 - acc: 0.9416 - val_loss: 0.3494 - val_acc: 0.8750\n",
      "Epoch 9/10\n",
      "24000/24000 [==============================] - 262s 11ms/sample - loss: 0.1410 - acc: 0.9500 - val_loss: 0.3632 - val_acc: 0.8762\n",
      "Epoch 10/10\n",
      "24000/24000 [==============================] - 365s 15ms/sample - loss: 0.1250 - acc: 0.9565 - val_loss: 0.3917 - val_acc: 0.8778\n",
      "Train on 24000 samples, validate on 6000 samples\n",
      "Epoch 1/10\n",
      "24000/24000 [==============================] - 353s 15ms/sample - loss: 0.4843 - acc: 0.7735 - val_loss: 0.4033 - val_acc: 0.8337\n",
      "Epoch 2/10\n",
      "24000/24000 [==============================] - 326s 14ms/sample - loss: 0.3616 - acc: 0.8484 - val_loss: 0.4004 - val_acc: 0.8425\n",
      "Epoch 3/10\n",
      "24000/24000 [==============================] - 297s 12ms/sample - loss: 0.2932 - acc: 0.8823 - val_loss: 0.2930 - val_acc: 0.8815\n",
      "Epoch 4/10\n",
      "24000/24000 [==============================] - 296s 12ms/sample - loss: 0.2424 - acc: 0.9050 - val_loss: 0.2875 - val_acc: 0.8843\n",
      "Epoch 5/10\n",
      "24000/24000 [==============================] - 295s 12ms/sample - loss: 0.2106 - acc: 0.9200 - val_loss: 0.2986 - val_acc: 0.8888\n",
      "Epoch 6/10\n",
      "24000/24000 [==============================] - 257s 11ms/sample - loss: 0.1888 - acc: 0.9304 - val_loss: 0.3339 - val_acc: 0.8858\n",
      "Epoch 7/10\n",
      "24000/24000 [==============================] - 258s 11ms/sample - loss: 0.1691 - acc: 0.9390 - val_loss: 0.3295 - val_acc: 0.8778\n",
      "Epoch 8/10\n",
      "24000/24000 [==============================] - 260s 11ms/sample - loss: 0.1490 - acc: 0.9465 - val_loss: 0.3622 - val_acc: 0.8770\n",
      "Epoch 9/10\n",
      "24000/24000 [==============================] - 260s 11ms/sample - loss: 0.1300 - acc: 0.9535 - val_loss: 0.4163 - val_acc: 0.8647\n",
      "Epoch 10/10\n",
      "24000/24000 [==============================] - 258s 11ms/sample - loss: 0.1160 - acc: 0.9592 - val_loss: 0.3649 - val_acc: 0.8785\n",
      "Train on 24000 samples, validate on 6000 samples\n",
      "Epoch 1/10\n",
      "24000/24000 [==============================] - 260s 11ms/sample - loss: 0.4935 - acc: 0.7665 - val_loss: 0.3702 - val_acc: 0.8372\n",
      "Epoch 2/10\n",
      "24000/24000 [==============================] - 262s 11ms/sample - loss: 0.3536 - acc: 0.8481 - val_loss: 0.3073 - val_acc: 0.8707\n",
      "Epoch 3/10\n",
      "24000/24000 [==============================] - 261s 11ms/sample - loss: 0.2819 - acc: 0.8881 - val_loss: 0.2916 - val_acc: 0.8813\n",
      "Epoch 4/10\n",
      "24000/24000 [==============================] - 260s 11ms/sample - loss: 0.2262 - acc: 0.9135 - val_loss: 0.2983 - val_acc: 0.8820\n",
      "Epoch 5/10\n",
      "24000/24000 [==============================] - 260s 11ms/sample - loss: 0.1926 - acc: 0.9304 - val_loss: 0.2948 - val_acc: 0.8828\n",
      "Epoch 6/10\n",
      "24000/24000 [==============================] - 262s 11ms/sample - loss: 0.1690 - acc: 0.9389 - val_loss: 0.3255 - val_acc: 0.8828\n"
     ]
    },
    {
     "name": "stdout",
     "output_type": "stream",
     "text": [
      "Epoch 7/10\n",
      "24000/24000 [==============================] - 258s 11ms/sample - loss: 0.1493 - acc: 0.9456 - val_loss: 0.3730 - val_acc: 0.8768\n",
      "Epoch 8/10\n",
      "24000/24000 [==============================] - 259s 11ms/sample - loss: 0.1323 - acc: 0.9548 - val_loss: 0.3491 - val_acc: 0.8765\n",
      "Epoch 9/10\n",
      "24000/24000 [==============================] - 263s 11ms/sample - loss: 0.1143 - acc: 0.9625 - val_loss: 0.4193 - val_acc: 0.8760\n",
      "Epoch 10/10\n",
      "24000/24000 [==============================] - 259s 11ms/sample - loss: 0.0964 - acc: 0.9668 - val_loss: 0.4285 - val_acc: 0.8712\n",
      "Train on 24000 samples, validate on 6000 samples\n",
      "Epoch 1/10\n",
      "24000/24000 [==============================] - 264s 11ms/sample - loss: 0.4857 - acc: 0.7697 - val_loss: 0.3662 - val_acc: 0.8495\n",
      "Epoch 2/10\n",
      "24000/24000 [==============================] - 265s 11ms/sample - loss: 0.3442 - acc: 0.8563 - val_loss: 0.3051 - val_acc: 0.8700\n",
      "Epoch 3/10\n",
      "24000/24000 [==============================] - 260s 11ms/sample - loss: 0.2661 - acc: 0.8973 - val_loss: 0.2917 - val_acc: 0.8800\n",
      "Epoch 4/10\n",
      "24000/24000 [==============================] - 265s 11ms/sample - loss: 0.2108 - acc: 0.9215 - val_loss: 0.2971 - val_acc: 0.8798\n",
      "Epoch 5/10\n",
      "24000/24000 [==============================] - 265s 11ms/sample - loss: 0.1766 - acc: 0.9338 - val_loss: 0.3445 - val_acc: 0.8758\n",
      "Epoch 6/10\n",
      "24000/24000 [==============================] - 261s 11ms/sample - loss: 0.1527 - acc: 0.9429 - val_loss: 0.3318 - val_acc: 0.8773\n",
      "Epoch 7/10\n",
      "24000/24000 [==============================] - 269s 11ms/sample - loss: 0.1347 - acc: 0.9522 - val_loss: 0.3636 - val_acc: 0.8800\n",
      "Epoch 8/10\n",
      "24000/24000 [==============================] - 261s 11ms/sample - loss: 0.1186 - acc: 0.9597 - val_loss: 0.4016 - val_acc: 0.8780\n",
      "Epoch 9/10\n",
      "24000/24000 [==============================] - 263s 11ms/sample - loss: 0.1006 - acc: 0.9651 - val_loss: 0.4354 - val_acc: 0.8713\n",
      "Epoch 10/10\n",
      "24000/24000 [==============================] - 264s 11ms/sample - loss: 0.0831 - acc: 0.9711 - val_loss: 0.4635 - val_acc: 0.8748\n",
      "Train on 24000 samples, validate on 6000 samples\n",
      "Epoch 1/10\n",
      "24000/24000 [==============================] - 263s 11ms/sample - loss: 0.4872 - acc: 0.7707 - val_loss: 0.4449 - val_acc: 0.8042\n",
      "Epoch 2/10\n",
      "24000/24000 [==============================] - 269s 11ms/sample - loss: 0.3384 - acc: 0.8578 - val_loss: 0.3157 - val_acc: 0.8682\n",
      "Epoch 3/10\n",
      "24000/24000 [==============================] - 267s 11ms/sample - loss: 0.2570 - acc: 0.8973 - val_loss: 0.3043 - val_acc: 0.8818\n",
      "Epoch 4/10\n",
      "24000/24000 [==============================] - 263s 11ms/sample - loss: 0.2016 - acc: 0.9240 - val_loss: 0.2903 - val_acc: 0.8817\n",
      "Epoch 5/10\n",
      "24000/24000 [==============================] - 267s 11ms/sample - loss: 0.1655 - acc: 0.9397 - val_loss: 0.3243 - val_acc: 0.8797\n",
      "Epoch 6/10\n",
      "24000/24000 [==============================] - 265s 11ms/sample - loss: 0.1417 - acc: 0.9485 - val_loss: 0.3642 - val_acc: 0.8675\n",
      "Epoch 7/10\n",
      "24000/24000 [==============================] - 263s 11ms/sample - loss: 0.1198 - acc: 0.9578 - val_loss: 0.3367 - val_acc: 0.8798\n",
      "Epoch 8/10\n",
      "24000/24000 [==============================] - 267s 11ms/sample - loss: 0.1017 - acc: 0.9638 - val_loss: 0.3650 - val_acc: 0.8758\n",
      "Epoch 9/10\n",
      "24000/24000 [==============================] - 262s 11ms/sample - loss: 0.0883 - acc: 0.9704 - val_loss: 0.4549 - val_acc: 0.8662\n",
      "Epoch 10/10\n",
      "24000/24000 [==============================] - 268s 11ms/sample - loss: 0.0728 - acc: 0.9750 - val_loss: 0.4820 - val_acc: 0.8705\n",
      "Train on 24000 samples, validate on 6000 samples\n",
      "Epoch 1/10\n",
      "24000/24000 [==============================] - 271s 11ms/sample - loss: 0.4947 - acc: 0.7698 - val_loss: 0.3743 - val_acc: 0.8373\n",
      "Epoch 2/10\n",
      "24000/24000 [==============================] - 269s 11ms/sample - loss: 0.3539 - acc: 0.8506 - val_loss: 0.3990 - val_acc: 0.8178\n",
      "Epoch 3/10\n",
      "24000/24000 [==============================] - 268s 11ms/sample - loss: 0.2638 - acc: 0.8979 - val_loss: 0.2860 - val_acc: 0.8827\n",
      "Epoch 4/10\n",
      "24000/24000 [==============================] - 270s 11ms/sample - loss: 0.1919 - acc: 0.9308 - val_loss: 0.2911 - val_acc: 0.8810\n",
      "Epoch 5/10\n",
      "24000/24000 [==============================] - 268s 11ms/sample - loss: 0.1543 - acc: 0.9444 - val_loss: 0.3803 - val_acc: 0.8698\n",
      "Epoch 6/10\n",
      "24000/24000 [==============================] - 268s 11ms/sample - loss: 0.1310 - acc: 0.9548 - val_loss: 0.3289 - val_acc: 0.8767\n",
      "Epoch 7/10\n",
      "24000/24000 [==============================] - 269s 11ms/sample - loss: 0.1093 - acc: 0.9618 - val_loss: 0.3726 - val_acc: 0.8727\n",
      "Epoch 8/10\n",
      "24000/24000 [==============================] - 270s 11ms/sample - loss: 0.0916 - acc: 0.9699 - val_loss: 0.4498 - val_acc: 0.8740\n",
      "Epoch 9/10\n",
      "24000/24000 [==============================] - 266s 11ms/sample - loss: 0.0772 - acc: 0.9735 - val_loss: 0.4345 - val_acc: 0.8700\n",
      "Epoch 10/10\n",
      "24000/24000 [==============================] - 269s 11ms/sample - loss: 0.0613 - acc: 0.9794 - val_loss: 0.5416 - val_acc: 0.8652\n",
      "Train on 24000 samples, validate on 6000 samples\n",
      "Epoch 1/10\n",
      "24000/24000 [==============================] - 273s 11ms/sample - loss: 0.4883 - acc: 0.7662 - val_loss: 0.3596 - val_acc: 0.8472\n",
      "Epoch 2/10\n",
      "24000/24000 [==============================] - 269s 11ms/sample - loss: 0.3438 - acc: 0.8562 - val_loss: 0.2969 - val_acc: 0.8737\n",
      "Epoch 3/10\n",
      "24000/24000 [==============================] - 273s 11ms/sample - loss: 0.2327 - acc: 0.9115 - val_loss: 0.3080 - val_acc: 0.8865\n",
      "Epoch 4/10\n",
      "24000/24000 [==============================] - 269s 11ms/sample - loss: 0.1570 - acc: 0.9428 - val_loss: 0.3223 - val_acc: 0.8837\n",
      "Epoch 5/10\n",
      "24000/24000 [==============================] - 269s 11ms/sample - loss: 0.1198 - acc: 0.9584 - val_loss: 0.3694 - val_acc: 0.8757\n",
      "Epoch 6/10\n",
      "24000/24000 [==============================] - 271s 11ms/sample - loss: 0.0979 - acc: 0.9670 - val_loss: 0.3784 - val_acc: 0.8818\n",
      "Epoch 7/10\n",
      "24000/24000 [==============================] - 267s 11ms/sample - loss: 0.0786 - acc: 0.9729 - val_loss: 0.4266 - val_acc: 0.8760\n",
      "Epoch 8/10\n",
      "24000/24000 [==============================] - 270s 11ms/sample - loss: 0.0608 - acc: 0.9789 - val_loss: 0.4772 - val_acc: 0.8760\n",
      "Epoch 9/10\n",
      "24000/24000 [==============================] - 271s 11ms/sample - loss: 0.0493 - acc: 0.9833 - val_loss: 0.5711 - val_acc: 0.8692\n",
      "Epoch 10/10\n",
      "24000/24000 [==============================] - 268s 11ms/sample - loss: 0.0349 - acc: 0.9877 - val_loss: 0.5857 - val_acc: 0.8705\n",
      "Train on 24000 samples, validate on 6000 samples\n",
      "Epoch 1/10\n",
      "24000/24000 [==============================] - 273s 11ms/sample - loss: 0.4925 - acc: 0.7689 - val_loss: 0.3662 - val_acc: 0.8407\n",
      "Epoch 2/10\n",
      "24000/24000 [==============================] - 272s 11ms/sample - loss: 0.3503 - acc: 0.8532 - val_loss: 0.3039 - val_acc: 0.8683\n",
      "Epoch 3/10\n",
      "24000/24000 [==============================] - 270s 11ms/sample - loss: 0.2284 - acc: 0.9133 - val_loss: 0.3032 - val_acc: 0.8808\n",
      "Epoch 4/10\n",
      "24000/24000 [==============================] - 269s 11ms/sample - loss: 0.1438 - acc: 0.9478 - val_loss: 0.3649 - val_acc: 0.8743\n",
      "Epoch 5/10\n",
      "24000/24000 [==============================] - 272s 11ms/sample - loss: 0.1007 - acc: 0.9636 - val_loss: 0.3879 - val_acc: 0.8742\n",
      "Epoch 6/10\n",
      "24000/24000 [==============================] - 268s 11ms/sample - loss: 0.0753 - acc: 0.9730 - val_loss: 0.4688 - val_acc: 0.8645\n",
      "Epoch 7/10\n",
      "24000/24000 [==============================] - 273s 11ms/sample - loss: 0.0588 - acc: 0.9798 - val_loss: 0.4721 - val_acc: 0.8607\n",
      "Epoch 8/10\n",
      "24000/24000 [==============================] - 272s 11ms/sample - loss: 0.0405 - acc: 0.9870 - val_loss: 0.5883 - val_acc: 0.8540\n",
      "Epoch 9/10\n",
      "24000/24000 [==============================] - 269s 11ms/sample - loss: 0.0297 - acc: 0.9906 - val_loss: 0.7561 - val_acc: 0.8498\n",
      "Epoch 10/10\n",
      "24000/24000 [==============================] - 270s 11ms/sample - loss: 0.0227 - acc: 0.9930 - val_loss: 0.8297 - val_acc: 0.8513\n"
     ]
    }
   ],
   "source": [
    "hist_list = test_max_features(max_features_list)"
   ]
  },
  {
   "cell_type": "code",
   "execution_count": 81,
   "metadata": {},
   "outputs": [
    {
     "data": {
      "image/png": "[encoded data removed]",
      "text/plain": [
       "<Figure size 432x288 with 1 Axes>"
      ]
     },
     "metadata": {
      "needs_background": "light"
     },
     "output_type": "display_data"
    },
    {
     "data": {
      "image/png": "[encoded data removed]",
      "text/plain": [
       "<Figure size 432x288 with 1 Axes>"
      ]
     },
     "metadata": {
      "needs_background": "light"
     },
     "output_type": "display_data"
    },
    {
     "data": {
      "image/png": "[encoded data removed]",
      "text/plain": [
       "<Figure size 432x288 with 1 Axes>"
      ]
     },
     "metadata": {
      "needs_background": "light"
     },
     "output_type": "display_data"
    },
    {
     "data": {
      "image/png": "[encoded data removed]",
      "text/plain": [
       "<Figure size 432x288 with 1 Axes>"
      ]
     },
     "metadata": {
      "needs_background": "light"
     },
     "output_type": "display_data"
    },
    {
     "data": {
      "image/png": "[encoded data removed]",
      "text/plain": [
       "<Figure size 432x288 with 1 Axes>"
      ]
     },
     "metadata": {
      "needs_background": "light"
     },
     "output_type": "display_data"
    },
    {
     "data": {
      "image/png": "[encoded data removed]",
      "text/plain": [
       "<Figure size 432x288 with 1 Axes>"
      ]
     },
     "metadata": {
      "needs_background": "light"
     },
     "output_type": "display_data"
    },
    {
     "data": {
      "image/png": "[encoded data removed]",
      "text/plain": [
       "<Figure size 432x288 with 1 Axes>"
      ]
     },
     "metadata": {
      "needs_background": "light"
     },
     "output_type": "display_data"
    },
    {
     "data": {
      "image/png": "[encoded data removed]",
      "text/plain": [
       "<Figure size 432x288 with 1 Axes>"
      ]
     },
     "metadata": {
      "needs_background": "light"
     },
     "output_type": "display_data"
    },
    {
     "data": {
      "image/png": "[encoded data removed]",
      "text/plain": [
       "<Figure size 432x288 with 1 Axes>"
      ]
     },
     "metadata": {
      "needs_background": "light"
     },
     "output_type": "display_data"
    },
    {
     "data": {
      "image/png": "[encoded data removed]",
      "text/plain": [
       "<Figure size 432x288 with 1 Axes>"
      ]
     },
     "metadata": {
      "needs_background": "light"
     },
     "output_type": "display_data"
    },
    {
     "data": {
      "image/png": "[encoded data removed]",
      "text/plain": [
       "<Figure size 432x288 with 1 Axes>"
      ]
     },
     "metadata": {
      "needs_background": "light"
     },
     "output_type": "display_data"
    }
   ],
   "source": [
    "for hist in hist_list:\n",
    "    pd.DataFrame(hist.history).plot()\n",
    "    plt.grid(True)\n",
    "    plt.show()"
   ]
  },
  {
   "cell_type": "code",
   "execution_count": 87,
   "metadata": {},
   "outputs": [],
   "source": [
    "def test_ltsm_neurons(n_list):\n",
    "    hist_list = list()\n",
    "   \n",
    "    max_features = 12000\n",
    "    tokenizer = Tokenizer(num_words=max_features)       #keeps 6000 most common words\n",
    "    train_test_data = review_lines                       # contains word tokens extracted from lines\n",
    "    tokenizer.fit_on_texts(train_test_data)\n",
    "    sequence = tokenizer.texts_to_sequences(train_test_data)\n",
    "    train_test_data = pad_sequences(sequence, maxlen = 120) \n",
    "    X = train_test_data\n",
    "    X_train, X_test, y_train, y_test = train_test_split(X, y, test_size=0.2)\n",
    "    \n",
    "    \n",
    "    vocab_size = len(tokenizer.word_index)+1\n",
    "    embedding_matrix = np.zeros((vocab_size, embedding_vector_size))\n",
    "    for  word, i in tokenizer.word_index.items():\n",
    "        embedding_vector = model_1.wv[word]\n",
    "        if embedding_vector is not None:\n",
    "            embedding_matrix[i] = embedding_vector\n",
    "    \n",
    "    for n in n_list:\n",
    "        \n",
    "        tf.keras.backend.clear_session()  # For easy reset of notebook state.\n",
    "        config_proto = tf.ConfigProto()\n",
    "        off = rewriter_config_pb2.RewriterConfig.OFF\n",
    "        config_proto.graph_options.rewrite_options.arithmetic_optimization = off\n",
    "        session = tf.Session(config=config_proto)\n",
    "        set_session(session)\n",
    "        \n",
    "        model = Sequential()\n",
    "\n",
    "        model.add(Embedding(input_dim = vocab_size, output_dim = embedding_vector_size, \n",
    "                            input_length = 120, weights = [embedding_matrix]))\n",
    "        model.add(Bidirectional(LSTM(n, dropout=0.25, recurrent_dropout=0.1)))\n",
    "        model.add(Dense(10))\n",
    "        model.add(Dropout(0.3))\n",
    "        model.add(Dense(1, activation='sigmoid'))\n",
    "        model.compile(optimizer='RMSProp', loss='binary_crossentropy', metrics=['accuracy'])\n",
    "        history = model.fit(X_train, y_train, epochs = 10, validation_data=[X_test, y_test])\n",
    "        hist_list.append(history)\n",
    "    return hist_list"
   ]
  },
  {
   "cell_type": "code",
   "execution_count": 88,
   "metadata": {},
   "outputs": [
    {
     "name": "stdout",
     "output_type": "stream",
     "text": [
      "Train on 24000 samples, validate on 6000 samples\n",
      "Epoch 1/10\n",
      "24000/24000 [==============================] - 185s 8ms/sample - loss: 0.5227 - acc: 0.7431 - val_loss: 0.3976 - val_acc: 0.8215\n",
      "Epoch 2/10\n",
      "24000/24000 [==============================] - 184s 8ms/sample - loss: 0.3769 - acc: 0.8433 - val_loss: 0.4089 - val_acc: 0.8260\n",
      "Epoch 3/10\n",
      "24000/24000 [==============================] - 184s 8ms/sample - loss: 0.3049 - acc: 0.8788 - val_loss: 0.3109 - val_acc: 0.8690\n",
      "Epoch 4/10\n",
      "24000/24000 [==============================] - 191s 8ms/sample - loss: 0.2501 - acc: 0.9036 - val_loss: 0.2946 - val_acc: 0.8733\n",
      "Epoch 5/10\n",
      "24000/24000 [==============================] - 189s 8ms/sample - loss: 0.2243 - acc: 0.9159 - val_loss: 0.3115 - val_acc: 0.8778\n",
      "Epoch 6/10\n",
      "24000/24000 [==============================] - 187s 8ms/sample - loss: 0.2028 - acc: 0.9267 - val_loss: 0.3191 - val_acc: 0.8802\n",
      "Epoch 7/10\n",
      "24000/24000 [==============================] - 188s 8ms/sample - loss: 0.1843 - acc: 0.9327 - val_loss: 0.3429 - val_acc: 0.8723\n",
      "Epoch 8/10\n",
      "24000/24000 [==============================] - 192s 8ms/sample - loss: 0.1691 - acc: 0.9382 - val_loss: 0.3124 - val_acc: 0.8743\n",
      "Epoch 9/10\n",
      "24000/24000 [==============================] - 195s 8ms/sample - loss: 0.1609 - acc: 0.9448 - val_loss: 0.3333 - val_acc: 0.8765\n",
      "Epoch 10/10\n",
      "24000/24000 [==============================] - 201s 8ms/sample - loss: 0.1471 - acc: 0.9492 - val_loss: 0.3535 - val_acc: 0.8788\n",
      "Train on 24000 samples, validate on 6000 samples\n",
      "Epoch 1/10\n",
      "24000/24000 [==============================] - 261s 11ms/sample - loss: 0.5039 - acc: 0.7573 - val_loss: 0.4561 - val_acc: 0.7995\n",
      "Epoch 2/10\n",
      "24000/24000 [==============================] - 270s 11ms/sample - loss: 0.3743 - acc: 0.8422 - val_loss: 0.3282 - val_acc: 0.8560\n",
      "Epoch 3/10\n",
      "24000/24000 [==============================] - 259s 11ms/sample - loss: 0.3053 - acc: 0.8778 - val_loss: 0.3040 - val_acc: 0.8738\n",
      "Epoch 4/10\n",
      "24000/24000 [==============================] - 253s 11ms/sample - loss: 0.2545 - acc: 0.9025 - val_loss: 0.3011 - val_acc: 0.8743\n",
      "Epoch 5/10\n",
      "24000/24000 [==============================] - 255s 11ms/sample - loss: 0.2219 - acc: 0.9161 - val_loss: 0.3055 - val_acc: 0.8765\n",
      "Epoch 6/10\n",
      "24000/24000 [==============================] - 253s 11ms/sample - loss: 0.2001 - acc: 0.9267 - val_loss: 0.3241 - val_acc: 0.8750\n",
      "Epoch 7/10\n",
      "24000/24000 [==============================] - 256s 11ms/sample - loss: 0.1805 - acc: 0.9343 - val_loss: 0.3104 - val_acc: 0.8752\n",
      "Epoch 8/10\n",
      "24000/24000 [==============================] - 257s 11ms/sample - loss: 0.1640 - acc: 0.9405 - val_loss: 0.3508 - val_acc: 0.8750\n",
      "Epoch 9/10\n",
      "24000/24000 [==============================] - 257s 11ms/sample - loss: 0.1484 - acc: 0.9490 - val_loss: 0.3453 - val_acc: 0.8728\n",
      "Epoch 10/10\n",
      "24000/24000 [==============================] - 259s 11ms/sample - loss: 0.1319 - acc: 0.9536 - val_loss: 0.3541 - val_acc: 0.8732\n",
      "Train on 24000 samples, validate on 6000 samples\n",
      "Epoch 1/10\n",
      "24000/24000 [==============================] - 293s 12ms/sample - loss: 0.4915 - acc: 0.7680 - val_loss: 0.4008 - val_acc: 0.8222\n",
      "Epoch 2/10\n",
      "24000/24000 [==============================] - 290s 12ms/sample - loss: 0.3592 - acc: 0.8492 - val_loss: 0.3259 - val_acc: 0.8590\n",
      "Epoch 3/10\n",
      "24000/24000 [==============================] - 296s 12ms/sample - loss: 0.2870 - acc: 0.8862 - val_loss: 0.2941 - val_acc: 0.8777\n",
      "Epoch 4/10\n",
      "24000/24000 [==============================] - 292s 12ms/sample - loss: 0.2406 - acc: 0.9087 - val_loss: 0.3031 - val_acc: 0.8815\n",
      "Epoch 5/10\n",
      "24000/24000 [==============================] - 284s 12ms/sample - loss: 0.2088 - acc: 0.9225 - val_loss: 0.3035 - val_acc: 0.8752\n",
      "Epoch 6/10\n",
      "24000/24000 [==============================] - 295s 12ms/sample - loss: 0.1858 - acc: 0.9305 - val_loss: 0.3100 - val_acc: 0.8788\n",
      "Epoch 7/10\n",
      "24000/24000 [==============================] - 294s 12ms/sample - loss: 0.1658 - acc: 0.9395 - val_loss: 0.3358 - val_acc: 0.8798\n",
      "Epoch 8/10\n",
      "24000/24000 [==============================] - 297s 12ms/sample - loss: 0.1516 - acc: 0.9465 - val_loss: 0.3626 - val_acc: 0.8718\n",
      "Epoch 9/10\n",
      "24000/24000 [==============================] - 300s 13ms/sample - loss: 0.1336 - acc: 0.9520 - val_loss: 0.3591 - val_acc: 0.8762\n",
      "Epoch 10/10\n",
      "24000/24000 [==============================] - 290s 12ms/sample - loss: 0.1126 - acc: 0.9601 - val_loss: 0.3912 - val_acc: 0.8712\n",
      "Train on 24000 samples, validate on 6000 samples\n",
      "Epoch 1/10\n",
      "24000/24000 [==============================] - 757s 32ms/sample - loss: 0.4837 - acc: 0.7749 - val_loss: 0.3659 - val_acc: 0.8338\n",
      "Epoch 2/10\n",
      "24000/24000 [==============================] - 737s 31ms/sample - loss: 0.3531 - acc: 0.8545 - val_loss: 0.3105 - val_acc: 0.8650\n",
      "Epoch 3/10\n",
      "24000/24000 [==============================] - 745s 31ms/sample - loss: 0.2823 - acc: 0.8887 - val_loss: 0.2929 - val_acc: 0.8753\n",
      "Epoch 4/10\n",
      "24000/24000 [==============================] - 743s 31ms/sample - loss: 0.2325 - acc: 0.9126 - val_loss: 0.3054 - val_acc: 0.8800\n",
      "Epoch 5/10\n",
      "24000/24000 [==============================] - 739s 31ms/sample - loss: 0.2010 - acc: 0.9247 - val_loss: 0.3188 - val_acc: 0.8807\n",
      "Epoch 6/10\n",
      "24000/24000 [==============================] - 754s 31ms/sample - loss: 0.1733 - acc: 0.9373 - val_loss: 0.3034 - val_acc: 0.8793\n",
      "Epoch 7/10\n",
      "24000/24000 [==============================] - 750s 31ms/sample - loss: 0.1510 - acc: 0.9456 - val_loss: 0.3323 - val_acc: 0.8803\n",
      "Epoch 8/10\n",
      "24000/24000 [==============================] - 728s 30ms/sample - loss: 0.1315 - acc: 0.9549 - val_loss: 0.3870 - val_acc: 0.8678\n",
      "Epoch 9/10\n",
      "24000/24000 [==============================] - 744s 31ms/sample - loss: 0.1052 - acc: 0.9642 - val_loss: 0.4140 - val_acc: 0.8772\n",
      "Epoch 10/10\n",
      "24000/24000 [==============================] - 748s 31ms/sample - loss: 0.0838 - acc: 0.9720 - val_loss: 0.4384 - val_acc: 0.8705\n",
      "Train on 24000 samples, validate on 6000 samples\n",
      "Epoch 1/10\n",
      "24000/24000 [==============================] - 1775s 74ms/sample - loss: 0.4823 - acc: 0.7761 - val_loss: 0.3659 - val_acc: 0.8303\n",
      "Epoch 2/10\n",
      "24000/24000 [==============================] - 1876s 78ms/sample - loss: 0.3437 - acc: 0.8590 - val_loss: 0.3025 - val_acc: 0.8667\n",
      "Epoch 3/10\n",
      "24000/24000 [==============================] - 1867s 78ms/sample - loss: 0.2753 - acc: 0.8923 - val_loss: 0.2922 - val_acc: 0.8808\n",
      "Epoch 4/10\n",
      "24000/24000 [==============================] - 1817s 76ms/sample - loss: 0.2280 - acc: 0.9152 - val_loss: 0.2875 - val_acc: 0.8793\n",
      "Epoch 5/10\n",
      "24000/24000 [==============================] - 1815s 76ms/sample - loss: 0.1920 - acc: 0.9291 - val_loss: 0.3080 - val_acc: 0.8880\n",
      "Epoch 6/10\n",
      "24000/24000 [==============================] - 1739s 72ms/sample - loss: 0.1670 - acc: 0.9398 - val_loss: 0.3168 - val_acc: 0.8743\n",
      "Epoch 7/10\n",
      "24000/24000 [==============================] - 1840s 77ms/sample - loss: 0.1422 - acc: 0.9495 - val_loss: 0.3511 - val_acc: 0.8825\n",
      "Epoch 8/10\n",
      "24000/24000 [==============================] - 1816s 76ms/sample - loss: 0.1139 - acc: 0.9607 - val_loss: 0.3644 - val_acc: 0.8793\n",
      "Epoch 9/10\n",
      "24000/24000 [==============================] - 1842s 77ms/sample - loss: 0.0856 - acc: 0.9711 - val_loss: 0.4955 - val_acc: 0.8758\n",
      "Epoch 10/10\n",
      "24000/24000 [==============================] - 1992s 83ms/sample - loss: 0.0658 - acc: 0.9785 - val_loss: 0.4708 - val_acc: 0.8725\n"
     ]
    }
   ],
   "source": [
    "n_list = [20,32,64,128,256]\n",
    "hist_2 = test_ltsm_neurons(n_list)"
   ]
  },
  {
   "cell_type": "code",
   "execution_count": 92,
   "metadata": {},
   "outputs": [],
   "source": [
    "def test_ltsm_dropout(d_list):\n",
    "    hist_list = list()\n",
    "   \n",
    "    max_features = 12000\n",
    "    tokenizer = Tokenizer(num_words=max_features)       #keeps 6000 most common words\n",
    "    train_test_data = review_lines                       # contains word tokens extracted from lines\n",
    "    tokenizer.fit_on_texts(train_test_data)\n",
    "    sequence = tokenizer.texts_to_sequences(train_test_data)\n",
    "    train_test_data = pad_sequences(sequence, maxlen = 120) \n",
    "    X = train_test_data\n",
    "    X_train, X_test, y_train, y_test = train_test_split(X, y, test_size=0.2)\n",
    "    \n",
    "    \n",
    "    vocab_size = len(tokenizer.word_index)+1\n",
    "    embedding_matrix = np.zeros((vocab_size, embedding_vector_size))\n",
    "    for  word, i in tokenizer.word_index.items():\n",
    "        embedding_vector = model_1.wv[word]\n",
    "        if embedding_vector is not None:\n",
    "            embedding_matrix[i] = embedding_vector\n",
    "    \n",
    "    for d in d_list:\n",
    "        \n",
    "        tf.keras.backend.clear_session()  # For easy reset of notebook state.\n",
    "        config_proto = tf.ConfigProto()\n",
    "        off = rewriter_config_pb2.RewriterConfig.OFF\n",
    "        config_proto.graph_options.rewrite_options.arithmetic_optimization = off\n",
    "        session = tf.Session(config=config_proto)\n",
    "        set_session(session)\n",
    "        \n",
    "        model = Sequential()\n",
    "\n",
    "        model.add(Embedding(input_dim = vocab_size, output_dim = embedding_vector_size, \n",
    "                            input_length = 120, weights = [embedding_matrix]))\n",
    "        model.add(Bidirectional(LSTM(64, dropout=d, recurrent_dropout=0.1)))\n",
    "        model.add(Dense(10))\n",
    "        model.add(Dropout(d+0.05))\n",
    "        model.add(Dense(1, activation='sigmoid'))\n",
    "        model.compile(optimizer='RMSProp', loss='binary_crossentropy', metrics=['accuracy'])\n",
    "        history = model.fit(X_train, y_train, epochs = 10, validation_data=[X_test, y_test])\n",
    "        hist_list.append(history)\n",
    "    return hist_list"
   ]
  },
  {
   "cell_type": "code",
   "execution_count": 90,
   "metadata": {},
   "outputs": [],
   "source": [
    "dropout_list = [0.05, 0.1, 0.15, 0.2, 0.25, 0.3, 0.35, 0.4, 0.45, 0.5]"
   ]
  },
  {
   "cell_type": "code",
   "execution_count": 93,
   "metadata": {},
   "outputs": [
    {
     "name": "stdout",
     "output_type": "stream",
     "text": [
      "Train on 24000 samples, validate on 6000 samples\n",
      "Epoch 1/10\n",
      "24000/24000 [==============================] - 336s 14ms/sample - loss: 0.4434 - acc: 0.7997 - val_loss: 0.3663 - val_acc: 0.8385\n",
      "Epoch 2/10\n",
      "24000/24000 [==============================] - 333s 14ms/sample - loss: 0.3127 - acc: 0.8708 - val_loss: 0.2985 - val_acc: 0.8690\n",
      "Epoch 3/10\n",
      "24000/24000 [==============================] - 333s 14ms/sample - loss: 0.2336 - acc: 0.9100 - val_loss: 0.3538 - val_acc: 0.8740\n",
      "Epoch 4/10\n",
      "24000/24000 [==============================] - 344s 14ms/sample - loss: 0.1878 - acc: 0.9273 - val_loss: 0.3144 - val_acc: 0.8827\n",
      "Epoch 5/10\n",
      "24000/24000 [==============================] - 362s 15ms/sample - loss: 0.1556 - acc: 0.9424 - val_loss: 0.3285 - val_acc: 0.8770\n",
      "Epoch 6/10\n",
      "24000/24000 [==============================] - 364s 15ms/sample - loss: 0.1245 - acc: 0.9539 - val_loss: 0.3486 - val_acc: 0.8763\n",
      "Epoch 7/10\n",
      "24000/24000 [==============================] - 368s 15ms/sample - loss: 0.0981 - acc: 0.9652 - val_loss: 0.4232 - val_acc: 0.8688\n",
      "Epoch 8/10\n",
      "24000/24000 [==============================] - 359s 15ms/sample - loss: 0.0752 - acc: 0.9744 - val_loss: 0.4454 - val_acc: 0.8670\n",
      "Epoch 9/10\n",
      "24000/24000 [==============================] - 367s 15ms/sample - loss: 0.0516 - acc: 0.9817 - val_loss: 0.5517 - val_acc: 0.8592\n",
      "Epoch 10/10\n",
      "24000/24000 [==============================] - 350s 15ms/sample - loss: 0.0359 - acc: 0.9878 - val_loss: 0.7272 - val_acc: 0.8695\n",
      "Train on 24000 samples, validate on 6000 samples\n",
      "Epoch 1/10\n",
      "24000/24000 [==============================] - 385s 16ms/sample - loss: 0.4566 - acc: 0.7870 - val_loss: 0.3534 - val_acc: 0.8477\n",
      "Epoch 2/10\n",
      "24000/24000 [==============================] - 369s 15ms/sample - loss: 0.3202 - acc: 0.8665 - val_loss: 0.3148 - val_acc: 0.8683\n",
      "Epoch 3/10\n",
      "24000/24000 [==============================] - 365s 15ms/sample - loss: 0.2464 - acc: 0.9016 - val_loss: 0.3104 - val_acc: 0.8800\n",
      "Epoch 4/10\n",
      "24000/24000 [==============================] - 374s 16ms/sample - loss: 0.2010 - acc: 0.9228 - val_loss: 0.3040 - val_acc: 0.8812\n",
      "Epoch 5/10\n",
      "24000/24000 [==============================] - 361s 15ms/sample - loss: 0.1693 - acc: 0.9368 - val_loss: 0.3334 - val_acc: 0.8815\n",
      "Epoch 6/10\n",
      "24000/24000 [==============================] - 356s 15ms/sample - loss: 0.1421 - acc: 0.9477 - val_loss: 0.3341 - val_acc: 0.8782\n",
      "Epoch 7/10\n",
      "24000/24000 [==============================] - 377s 16ms/sample - loss: 0.1177 - acc: 0.9575 - val_loss: 0.3704 - val_acc: 0.8718\n",
      "Epoch 8/10\n",
      "24000/24000 [==============================] - 361s 15ms/sample - loss: 0.0934 - acc: 0.9677 - val_loss: 0.3885 - val_acc: 0.8673\n",
      "Epoch 9/10\n",
      "24000/24000 [==============================] - 348s 15ms/sample - loss: 0.0749 - acc: 0.9743 - val_loss: 0.5075 - val_acc: 0.8765\n",
      "Epoch 10/10\n",
      "24000/24000 [==============================] - 346s 14ms/sample - loss: 0.0577 - acc: 0.9806 - val_loss: 0.5643 - val_acc: 0.8662\n",
      "Train on 24000 samples, validate on 6000 samples\n",
      "Epoch 1/10\n",
      "24000/24000 [==============================] - 358s 15ms/sample - loss: 0.4709 - acc: 0.7782 - val_loss: 0.3747 - val_acc: 0.8365\n",
      "Epoch 2/10\n",
      "24000/24000 [==============================] - 355s 15ms/sample - loss: 0.3325 - acc: 0.8599 - val_loss: 0.3005 - val_acc: 0.8760\n",
      "Epoch 3/10\n",
      "24000/24000 [==============================] - 361s 15ms/sample - loss: 0.2590 - acc: 0.8964 - val_loss: 0.2857 - val_acc: 0.8848\n",
      "Epoch 4/10\n",
      "24000/24000 [==============================] - 366s 15ms/sample - loss: 0.2136 - acc: 0.9170 - val_loss: 0.3050 - val_acc: 0.8797\n",
      "Epoch 5/10\n",
      "24000/24000 [==============================] - 369s 15ms/sample - loss: 0.1800 - acc: 0.9323 - val_loss: 0.3228 - val_acc: 0.8852\n",
      "Epoch 6/10\n",
      "24000/24000 [==============================] - 370s 15ms/sample - loss: 0.1537 - acc: 0.9424 - val_loss: 0.3248 - val_acc: 0.8810\n",
      "Epoch 7/10\n",
      "24000/24000 [==============================] - 379s 16ms/sample - loss: 0.1314 - acc: 0.9530 - val_loss: 0.3347 - val_acc: 0.8785\n",
      "Epoch 8/10\n",
      "24000/24000 [==============================] - 382s 16ms/sample - loss: 0.1111 - acc: 0.9604 - val_loss: 0.3748 - val_acc: 0.8710\n",
      "Epoch 9/10\n",
      "24000/24000 [==============================] - 373s 16ms/sample - loss: 0.0909 - acc: 0.9682 - val_loss: 0.4756 - val_acc: 0.8753\n",
      "Epoch 10/10\n",
      "24000/24000 [==============================] - 381s 16ms/sample - loss: 0.0733 - acc: 0.9738 - val_loss: 0.5159 - val_acc: 0.8682\n",
      "Train on 24000 samples, validate on 6000 samples\n",
      "Epoch 1/10\n",
      "24000/24000 [==============================] - 416s 17ms/sample - loss: 0.4756 - acc: 0.7786 - val_loss: 0.3731 - val_acc: 0.8367\n",
      "Epoch 2/10\n",
      "24000/24000 [==============================] - 403s 17ms/sample - loss: 0.3490 - acc: 0.8519 - val_loss: 0.3266 - val_acc: 0.8622\n",
      "Epoch 3/10\n",
      "24000/24000 [==============================] - 385s 16ms/sample - loss: 0.2747 - acc: 0.8884 - val_loss: 0.3012 - val_acc: 0.8787\n",
      "Epoch 4/10\n",
      "24000/24000 [==============================] - 397s 17ms/sample - loss: 0.2234 - acc: 0.9137 - val_loss: 0.2897 - val_acc: 0.8845\n",
      "Epoch 5/10\n",
      "24000/24000 [==============================] - 399s 17ms/sample - loss: 0.1941 - acc: 0.9258 - val_loss: 0.3136 - val_acc: 0.8775\n",
      "Epoch 6/10\n",
      "24000/24000 [==============================] - 379s 16ms/sample - loss: 0.1666 - acc: 0.9377 - val_loss: 0.3398 - val_acc: 0.8738\n",
      "Epoch 7/10\n",
      "24000/24000 [==============================] - 376s 16ms/sample - loss: 0.1482 - acc: 0.9466 - val_loss: 0.3543 - val_acc: 0.8778\n",
      "Epoch 8/10\n",
      "24000/24000 [==============================] - 379s 16ms/sample - loss: 0.1291 - acc: 0.9538 - val_loss: 0.3722 - val_acc: 0.8778\n",
      "Epoch 9/10\n",
      "24000/24000 [==============================] - 376s 16ms/sample - loss: 0.1091 - acc: 0.9624 - val_loss: 0.4031 - val_acc: 0.8708\n",
      "Epoch 10/10\n",
      "24000/24000 [==============================] - 381s 16ms/sample - loss: 0.0904 - acc: 0.9690 - val_loss: 0.4769 - val_acc: 0.8628\n",
      "Train on 24000 samples, validate on 6000 samples\n",
      "Epoch 1/10\n",
      "24000/24000 [==============================] - 385s 16ms/sample - loss: 0.4910 - acc: 0.7681 - val_loss: 0.4754 - val_acc: 0.7693\n",
      "Epoch 2/10\n",
      "24000/24000 [==============================] - 380s 16ms/sample - loss: 0.3589 - acc: 0.8487 - val_loss: 0.3212 - val_acc: 0.8623\n",
      "Epoch 3/10\n",
      "24000/24000 [==============================] - 439s 18ms/sample - loss: 0.2856 - acc: 0.8827 - val_loss: 0.2953 - val_acc: 0.8777\n",
      "Epoch 4/10\n",
      "24000/24000 [==============================] - 442s 18ms/sample - loss: 0.2398 - acc: 0.9059 - val_loss: 0.3020 - val_acc: 0.8803\n",
      "Epoch 5/10\n",
      "24000/24000 [==============================] - 443s 18ms/sample - loss: 0.2077 - acc: 0.9211 - val_loss: 0.3042 - val_acc: 0.8803\n",
      "Epoch 6/10\n",
      "24000/24000 [==============================] - 443s 18ms/sample - loss: 0.1854 - acc: 0.9320 - val_loss: 0.3292 - val_acc: 0.8777\n",
      "Epoch 7/10\n",
      "24000/24000 [==============================] - 443s 18ms/sample - loss: 0.1654 - acc: 0.9397 - val_loss: 0.3445 - val_acc: 0.8785\n",
      "Epoch 8/10\n",
      "24000/24000 [==============================] - 442s 18ms/sample - loss: 0.1494 - acc: 0.9473 - val_loss: 0.3409 - val_acc: 0.8765\n",
      "Epoch 9/10\n",
      "24000/24000 [==============================] - 441s 18ms/sample - loss: 0.1286 - acc: 0.9540 - val_loss: 0.3808 - val_acc: 0.8762\n",
      "Epoch 10/10\n",
      "24000/24000 [==============================] - 441s 18ms/sample - loss: 0.1131 - acc: 0.9605 - val_loss: 0.3835 - val_acc: 0.8733\n",
      "Train on 24000 samples, validate on 6000 samples\n",
      "Epoch 1/10\n",
      "24000/24000 [==============================] - 453s 19ms/sample - loss: 0.5099 - acc: 0.7520 - val_loss: 0.3691 - val_acc: 0.8393\n",
      "Epoch 2/10\n",
      "24000/24000 [==============================] - 454s 19ms/sample - loss: 0.3685 - acc: 0.8411 - val_loss: 0.3358 - val_acc: 0.8643\n",
      "Epoch 3/10\n",
      "24000/24000 [==============================] - 458s 19ms/sample - loss: 0.2978 - acc: 0.8781 - val_loss: 0.2992 - val_acc: 0.8765\n",
      "Epoch 4/10\n",
      "24000/24000 [==============================] - 454s 19ms/sample - loss: 0.2475 - acc: 0.9045 - val_loss: 0.3119 - val_acc: 0.8820\n",
      "Epoch 5/10\n",
      "24000/24000 [==============================] - 454s 19ms/sample - loss: 0.2165 - acc: 0.9188 - val_loss: 0.2912 - val_acc: 0.8807\n",
      "Epoch 6/10\n",
      "24000/24000 [==============================] - 455s 19ms/sample - loss: 0.1936 - acc: 0.9269 - val_loss: 0.3265 - val_acc: 0.8823\n"
     ]
    },
    {
     "name": "stdout",
     "output_type": "stream",
     "text": [
      "Epoch 7/10\n",
      "24000/24000 [==============================] - 459s 19ms/sample - loss: 0.1703 - acc: 0.9372 - val_loss: 0.3220 - val_acc: 0.8803\n",
      "Epoch 8/10\n",
      "24000/24000 [==============================] - 446s 19ms/sample - loss: 0.1581 - acc: 0.9432 - val_loss: 0.3743 - val_acc: 0.8820\n",
      "Epoch 9/10\n",
      "24000/24000 [==============================] - 387s 16ms/sample - loss: 0.1375 - acc: 0.9508 - val_loss: 0.3817 - val_acc: 0.8753\n",
      "Epoch 10/10\n",
      "24000/24000 [==============================] - 387s 16ms/sample - loss: 0.1231 - acc: 0.9572 - val_loss: 0.3622 - val_acc: 0.8777\n",
      "Train on 24000 samples, validate on 6000 samples\n",
      "Epoch 1/10\n",
      "24000/24000 [==============================] - 402s 17ms/sample - loss: 0.5141 - acc: 0.7552 - val_loss: 0.3753 - val_acc: 0.8317\n",
      "Epoch 2/10\n",
      "24000/24000 [==============================] - 401s 17ms/sample - loss: 0.3835 - acc: 0.8364 - val_loss: 0.3471 - val_acc: 0.8527\n",
      "Epoch 3/10\n",
      "24000/24000 [==============================] - 389s 16ms/sample - loss: 0.3183 - acc: 0.8708 - val_loss: 0.3319 - val_acc: 0.8697\n",
      "Epoch 4/10\n",
      "24000/24000 [==============================] - 382s 16ms/sample - loss: 0.2687 - acc: 0.8952 - val_loss: 0.2864 - val_acc: 0.8850\n",
      "Epoch 5/10\n",
      "24000/24000 [==============================] - 382s 16ms/sample - loss: 0.2332 - acc: 0.9126 - val_loss: 0.3041 - val_acc: 0.8835\n",
      "Epoch 6/10\n",
      "24000/24000 [==============================] - 398s 17ms/sample - loss: 0.2081 - acc: 0.9234 - val_loss: 0.2978 - val_acc: 0.8858\n",
      "Epoch 7/10\n",
      "24000/24000 [==============================] - 393s 16ms/sample - loss: 0.1899 - acc: 0.9316 - val_loss: 0.3168 - val_acc: 0.8798\n",
      "Epoch 8/10\n",
      "24000/24000 [==============================] - 408s 17ms/sample - loss: 0.1709 - acc: 0.9394 - val_loss: 0.3444 - val_acc: 0.8848\n",
      "Epoch 9/10\n",
      "24000/24000 [==============================] - 397s 17ms/sample - loss: 0.1558 - acc: 0.9448 - val_loss: 0.4117 - val_acc: 0.8692\n",
      "Epoch 10/10\n",
      "24000/24000 [==============================] - 391s 16ms/sample - loss: 0.1426 - acc: 0.9498 - val_loss: 0.3333 - val_acc: 0.8765\n",
      "Train on 24000 samples, validate on 6000 samples\n",
      "Epoch 1/10\n",
      "24000/24000 [==============================] - 395s 16ms/sample - loss: 0.5267 - acc: 0.7427 - val_loss: 0.3830 - val_acc: 0.8332\n",
      "Epoch 2/10\n",
      "24000/24000 [==============================] - 394s 16ms/sample - loss: 0.3921 - acc: 0.8323 - val_loss: 0.3537 - val_acc: 0.8588\n",
      "Epoch 3/10\n",
      "24000/24000 [==============================] - 392s 16ms/sample - loss: 0.3230 - acc: 0.8687 - val_loss: 0.2924 - val_acc: 0.8792\n",
      "Epoch 4/10\n",
      "24000/24000 [==============================] - 407s 17ms/sample - loss: 0.2746 - acc: 0.8917 - val_loss: 0.2963 - val_acc: 0.8787\n",
      "Epoch 5/10\n",
      "24000/24000 [==============================] - 421s 18ms/sample - loss: 0.2437 - acc: 0.9087 - val_loss: 0.3158 - val_acc: 0.8800\n",
      "Epoch 6/10\n",
      "24000/24000 [==============================] - 412s 17ms/sample - loss: 0.2174 - acc: 0.9203 - val_loss: 0.3142 - val_acc: 0.8858\n",
      "Epoch 7/10\n",
      "24000/24000 [==============================] - 397s 17ms/sample - loss: 0.2032 - acc: 0.9267 - val_loss: 0.3219 - val_acc: 0.8800\n",
      "Epoch 8/10\n",
      "24000/24000 [==============================] - 395s 16ms/sample - loss: 0.1864 - acc: 0.9325 - val_loss: 0.3247 - val_acc: 0.8818\n",
      "Epoch 9/10\n",
      "24000/24000 [==============================] - 388s 16ms/sample - loss: 0.1748 - acc: 0.9391 - val_loss: 0.3439 - val_acc: 0.8772\n",
      "Epoch 10/10\n",
      "24000/24000 [==============================] - 412s 17ms/sample - loss: 0.1553 - acc: 0.9457 - val_loss: 0.3417 - val_acc: 0.8750\n",
      "Train on 24000 samples, validate on 6000 samples\n",
      "Epoch 1/10\n",
      "24000/24000 [==============================] - 501s 21ms/sample - loss: 0.5448 - acc: 0.7315 - val_loss: 0.5707 - val_acc: 0.7545\n",
      "Epoch 2/10\n",
      "24000/24000 [==============================] - 499s 21ms/sample - loss: 0.4091 - acc: 0.8238 - val_loss: 0.3505 - val_acc: 0.8580\n",
      "Epoch 3/10\n",
      "24000/24000 [==============================] - 499s 21ms/sample - loss: 0.3428 - acc: 0.8600 - val_loss: 0.3088 - val_acc: 0.8685\n",
      "Epoch 4/10\n",
      "24000/24000 [==============================] - 507s 21ms/sample - loss: 0.2896 - acc: 0.8867 - val_loss: 0.3015 - val_acc: 0.8785\n",
      "Epoch 5/10\n",
      "24000/24000 [==============================] - 503s 21ms/sample - loss: 0.2588 - acc: 0.9023 - val_loss: 0.2944 - val_acc: 0.8782\n",
      "Epoch 6/10\n",
      "24000/24000 [==============================] - 511s 21ms/sample - loss: 0.2334 - acc: 0.9155 - val_loss: 0.2978 - val_acc: 0.8837\n",
      "Epoch 7/10\n",
      "24000/24000 [==============================] - 422s 18ms/sample - loss: 0.2164 - acc: 0.9221 - val_loss: 0.3182 - val_acc: 0.8830\n",
      "Epoch 8/10\n",
      "24000/24000 [==============================] - 462s 19ms/sample - loss: 0.1968 - acc: 0.9292 - val_loss: 0.3536 - val_acc: 0.8830\n",
      "Epoch 9/10\n",
      "24000/24000 [==============================] - 440s 18ms/sample - loss: 0.1863 - acc: 0.9334 - val_loss: 0.3918 - val_acc: 0.8745\n",
      "Epoch 10/10\n",
      "24000/24000 [==============================] - 441s 18ms/sample - loss: 0.1773 - acc: 0.9378 - val_loss: 0.3437 - val_acc: 0.8783\n",
      "Train on 24000 samples, validate on 6000 samples\n",
      "Epoch 1/10\n",
      "24000/24000 [==============================] - 434s 18ms/sample - loss: 0.5564 - acc: 0.7224 - val_loss: 0.3992 - val_acc: 0.8195\n",
      "Epoch 2/10\n",
      "24000/24000 [==============================] - 422s 18ms/sample - loss: 0.4271 - acc: 0.8160 - val_loss: 0.3521 - val_acc: 0.8445\n",
      "Epoch 3/10\n",
      "24000/24000 [==============================] - 476s 20ms/sample - loss: 0.3632 - acc: 0.8493 - val_loss: 0.3339 - val_acc: 0.8643\n",
      "Epoch 4/10\n",
      "24000/24000 [==============================] - 472s 20ms/sample - loss: 0.3170 - acc: 0.8747 - val_loss: 0.3119 - val_acc: 0.8753\n",
      "Epoch 5/10\n",
      "24000/24000 [==============================] - 523s 22ms/sample - loss: 0.2768 - acc: 0.8950 - val_loss: 0.2982 - val_acc: 0.8783\n",
      "Epoch 6/10\n",
      "24000/24000 [==============================] - 466s 19ms/sample - loss: 0.2518 - acc: 0.9073 - val_loss: 0.3084 - val_acc: 0.8812\n",
      "Epoch 7/10\n",
      "24000/24000 [==============================] - 505s 21ms/sample - loss: 0.2314 - acc: 0.9151 - val_loss: 0.3159 - val_acc: 0.8823\n",
      "Epoch 8/10\n",
      "24000/24000 [==============================] - 1117s 47ms/sample - loss: 0.2124 - acc: 0.9260 - val_loss: 0.3182 - val_acc: 0.8803\n",
      "Epoch 9/10\n",
      "24000/24000 [==============================] - 980s 41ms/sample - loss: 0.2036 - acc: 0.9270 - val_loss: 0.3248 - val_acc: 0.8817\n",
      "Epoch 10/10\n",
      "24000/24000 [==============================] - 497s 21ms/sample - loss: 0.1936 - acc: 0.9312 - val_loss: 0.3306 - val_acc: 0.8833\n"
     ]
    }
   ],
   "source": [
    "hist_list3 = test_ltsm_dropout(dropout_list)"
   ]
  },
  {
   "cell_type": "code",
   "execution_count": 108,
   "metadata": {},
   "outputs": [
    {
     "name": "stdout",
     "output_type": "stream",
     "text": [
      "Train on 24000 samples, validate on 6000 samples\n",
      "Epoch 1/5\n",
      "24000/24000 [==============================] - 595s 25ms/sample - loss: 0.4702 - acc: 0.7785 - val_loss: 0.3627 - val_acc: 0.8413\n",
      "Epoch 2/5\n",
      "24000/24000 [==============================] - 743s 31ms/sample - loss: 0.3412 - acc: 0.8568 - val_loss: 0.3060 - val_acc: 0.8675\n",
      "Epoch 3/5\n",
      "24000/24000 [==============================] - 600s 25ms/sample - loss: 0.2688 - acc: 0.8915 - val_loss: 0.3077 - val_acc: 0.8785\n",
      "Epoch 4/5\n",
      "24000/24000 [==============================] - 746s 31ms/sample - loss: 0.2232 - acc: 0.9133 - val_loss: 0.3131 - val_acc: 0.8788\n",
      "Epoch 5/5\n",
      "24000/24000 [==============================] - 644s 27ms/sample - loss: 0.1915 - acc: 0.9271 - val_loss: 0.3052 - val_acc: 0.8827\n"
     ]
    }
   ],
   "source": [
    "max_features = 12000\n",
    "tokenizer = Tokenizer(num_words=max_features)       #keeps 6000 most common words\n",
    "train_test_data = review_lines                       # contains word tokens extracted from lines\n",
    "tokenizer.fit_on_texts(train_test_data)\n",
    "sequence = tokenizer.texts_to_sequences(train_test_data)\n",
    "train_test_data = pad_sequences(sequence, maxlen = 120) \n",
    "X = train_test_data\n",
    "X_train, X_test, y_train, y_test = train_test_split(X, y, test_size=0.2)\n",
    "    \n",
    "    \n",
    "vocab_size = len(tokenizer.word_index)+1\n",
    "embedding_matrix = np.zeros((vocab_size, embedding_vector_size))\n",
    "for  word, i in tokenizer.word_index.items():\n",
    "    embedding_vector = model_1.wv[word]\n",
    "    if embedding_vector is not None:\n",
    "        embedding_matrix[i] = embedding_vector\n",
    "    \n",
    "tf.keras.backend.clear_session()  # For easy reset of notebook state.\n",
    "config_proto = tf.ConfigProto()\n",
    "off = rewriter_config_pb2.RewriterConfig.OFF\n",
    "config_proto.graph_options.rewrite_options.arithmetic_optimization = off\n",
    "session = tf.Session(config=config_proto)\n",
    "set_session(session)\n",
    "        \n",
    "model = Sequential()\n",
    "\n",
    "model.add(Embedding(input_dim = vocab_size, output_dim = embedding_vector_size, \n",
    "                            input_length = 120, weights = [embedding_matrix]))\n",
    "model.add(Bidirectional(LSTM(64, dropout=0.2, recurrent_dropout=0.1)))\n",
    "model.add(Dense(10))\n",
    "model.add(Dropout(0.25))\n",
    "model.add(Dense(1, activation='sigmoid'))\n",
    "model.compile(optimizer='RMSProp', loss='binary_crossentropy', metrics=['accuracy'])\n",
    "history = model.fit(X_train, y_train, epochs = 5, validation_data=[X_test, y_test])"
   ]
  },
  {
   "cell_type": "code",
   "execution_count": 109,
   "metadata": {},
   "outputs": [
    {
     "name": "stdout",
     "output_type": "stream",
     "text": [
      "_________________________________________________________________\n",
      "Layer (type)                 Output Shape              Param #   \n",
      "=================================================================\n",
      "embedding (Embedding)        (None, 120, 150)          13962000  \n",
      "_________________________________________________________________\n",
      "bidirectional (Bidirectional (None, 128)               110080    \n",
      "_________________________________________________________________\n",
      "dense (Dense)                (None, 10)                1290      \n",
      "_________________________________________________________________\n",
      "dropout (Dropout)            (None, 10)                0         \n",
      "_________________________________________________________________\n",
      "dense_1 (Dense)              (None, 1)                 11        \n",
      "=================================================================\n",
      "Total params: 14,073,381\n",
      "Trainable params: 14,073,381\n",
      "Non-trainable params: 0\n",
      "_________________________________________________________________\n"
     ]
    }
   ],
   "source": [
    "model.summary()"
   ]
  },
  {
   "cell_type": "code",
   "execution_count": 110,
   "metadata": {},
   "outputs": [],
   "source": [
    "prediction = model.predict_classes(X_test)"
   ]
  },
  {
   "cell_type": "code",
   "execution_count": 112,
   "metadata": {},
   "outputs": [
    {
     "data": {
      "text/plain": [
       "Text(33.0, 0.5, 'Actual')"
      ]
     },
     "execution_count": 112,
     "metadata": {},
     "output_type": "execute_result"
    },
    {
     "data": {
      "image/png": "[encoded data removed]",
      "text/plain": [
       "<Figure size 432x288 with 2 Axes>"
      ]
     },
     "metadata": {
      "needs_background": "light"
     },
     "output_type": "display_data"
    }
   ],
   "source": [
    "from sklearn.metrics import confusion_matrix, f1_score, accuracy_score\n",
    "cm = confusion_matrix(prediction, y_test)\n",
    "sns.heatmap(cm, annot=True, cmap=\"Blues\", fmt='g')\n",
    "plt.xlabel(\"Predicted\")\n",
    "plt.ylabel(\"Actual\")"
   ]
  },
  {
   "cell_type": "code",
   "execution_count": 113,
   "metadata": {},
   "outputs": [
    {
     "data": {
      "text/plain": [
       "0.8826666666666667"
      ]
     },
     "execution_count": 113,
     "metadata": {},
     "output_type": "execute_result"
    }
   ],
   "source": [
    "accuracy_score(prediction, y_test)"
   ]
  },
  {
   "cell_type": "code",
   "execution_count": 114,
   "metadata": {},
   "outputs": [
    {
     "data": {
      "text/plain": [
       "0.8872878642331092"
      ]
     },
     "execution_count": 114,
     "metadata": {},
     "output_type": "execute_result"
    }
   ],
   "source": [
    "f1_score(prediction, y_test)"
   ]
  },
  {
   "cell_type": "code",
   "execution_count": 117,
   "metadata": {},
   "outputs": [
    {
     "data": {
      "text/plain": [
       "Text(0.5, 1.0, 'Training of LSTM')"
      ]
     },
     "execution_count": 117,
     "metadata": {},
     "output_type": "execute_result"
    },
    {
     "data": {
      "image/png": "[encoded data removed]",
      "text/plain": [
       "<Figure size 432x288 with 1 Axes>"
      ]
     },
     "metadata": {
      "needs_background": "light"
     },
     "output_type": "display_data"
    }
   ],
   "source": [
    "pd.DataFrame(history.history).plot()\n",
    "plt.grid()\n",
    "plt.ylim(0,1)\n",
    "plt.title(\"Training of LSTM\")"
   ]
  },
  {
   "cell_type": "code",
   "execution_count": null,
   "metadata": {},
   "outputs": [],
   "source": []
  }
 ],
 "metadata": {
  "kernelspec": {
   "display_name": "Python 3",
   "language": "python",
   "name": "python3"
  },
  "language_info": {
   "codemirror_mode": {
    "name": "ipython",
    "version": 3
   },
   "file_extension": ".py",
   "mimetype": "text/x-python",
   "name": "python",
   "nbconvert_exporter": "python",
   "pygments_lexer": "ipython3",
   "version": "3.7.4"
  }
 },
 "nbformat": 4,
 "nbformat_minor": 2
}
